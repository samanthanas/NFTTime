{
 "cells": [
  {
   "cell_type": "markdown",
   "metadata": {},
   "source": [
    "### Business Understanding"
   ]
  },
  {
   "cell_type": "markdown",
   "metadata": {},
   "source": [
    "#### Why Trade NFTs: \n",
    "    \n",
    "   - Large investment firms are moving money into crypto \n",
    "   - Governments (like City of Miami) are incorporating crypto into city infrastructure\n",
    "   - Some renowned investment firms are beginning to buy NFTs (like Cryptopunks)\n",
    "   - Contemporary art has outperformed S&P for years\n",
    "   - Digital art is more liquid than physical art\n",
    "    \n",
    "#### Risks:\n",
    "   - Industry is new and uncertain: \"long term hold\" investment strategy is higher risk than short term gains\n",
    "   - Asset can be traded 24/7 - gap risk is intense ATM especially as space continues to develop \"hype\"\n",
    "    \n",
    "#### Purpose of this Model:\n",
    "   - Capture prices for NFT \"flipping\" (swing trading)\n",
    "   - Help NFT traders forecast what their NFT purchase might look like a week or two later to provide a baseline to assess the approximate risk in this highly volatile space"
   ]
  },
  {
   "cell_type": "markdown",
   "metadata": {},
   "source": [
    "### Data"
   ]
  },
  {
   "cell_type": "markdown",
   "metadata": {},
   "source": [
    "- Source: Opensea API\n",
    "- EDA revealed high number of sales for high-volume assets and times of day where sales are high (importance of hourly data)\n",
    "- Datasets created for the collections being analyzed - collections are high-volume, must have 3 months worth of sales data available\n",
    "- NFTs are still so new that it is hard to collect data for years at a time but fortunately a month-worth of sales contains thousands of transactions\n",
    "- Data will be modeled with the past and validated in the present"
   ]
  },
  {
   "cell_type": "code",
   "execution_count": null,
   "metadata": {},
   "outputs": [],
   "source": []
  }
 ],
 "metadata": {
  "kernelspec": {
   "display_name": "Python 3",
   "language": "python",
   "name": "python3"
  },
  "language_info": {
   "codemirror_mode": {
    "name": "ipython",
    "version": 3
   },
   "file_extension": ".py",
   "mimetype": "text/x-python",
   "name": "python",
   "nbconvert_exporter": "python",
   "pygments_lexer": "ipython3",
   "version": "3.8.5"
  }
 },
 "nbformat": 4,
 "nbformat_minor": 4
}
