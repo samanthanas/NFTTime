{
 "cells": [
  {
   "cell_type": "code",
   "execution_count": 2,
   "metadata": {},
   "outputs": [],
   "source": [
    "import numpy as np\n",
    "import pandas as pd\n",
    "import requests\n",
    "import matplotlib.pyplot as plt\n",
    "from io import BytesIO\n",
    "from pandas.io.json import json_normalize\n",
    "from statsmodels.tsa.stattools import adfuller\n",
    "import seaborn as sns"
   ]
  },
  {
   "cell_type": "code",
   "execution_count": 3,
   "metadata": {},
   "outputs": [],
   "source": [
    "coolcats_df = pd.read_csv(\"coolcats_data.csv\", index_col=0)"
   ]
  },
  {
   "cell_type": "code",
   "execution_count": 4,
   "metadata": {},
   "outputs": [
    {
     "data": {
      "text/html": [
       "<div>\n",
       "<style scoped>\n",
       "    .dataframe tbody tr th:only-of-type {\n",
       "        vertical-align: middle;\n",
       "    }\n",
       "\n",
       "    .dataframe tbody tr th {\n",
       "        vertical-align: top;\n",
       "    }\n",
       "\n",
       "    .dataframe thead th {\n",
       "        text-align: right;\n",
       "    }\n",
       "</style>\n",
       "<table border=\"1\" class=\"dataframe\">\n",
       "  <thead>\n",
       "    <tr style=\"text-align: right;\">\n",
       "      <th></th>\n",
       "      <th>id</th>\n",
       "      <th>quantity</th>\n",
       "      <th>total_price_eth</th>\n",
       "      <th>asset.id</th>\n",
       "      <th>asset.token_id</th>\n",
       "      <th>asset.num_sales</th>\n",
       "      <th>asset.name</th>\n",
       "      <th>seller.address</th>\n",
       "      <th>transaction.block_hash</th>\n",
       "      <th>transaction.block_number</th>\n",
       "      <th>transaction.id</th>\n",
       "      <th>transaction.timestamp</th>\n",
       "      <th>transaction.transaction_hash</th>\n",
       "      <th>transaction.transaction_index</th>\n",
       "      <th>winner_account.address</th>\n",
       "    </tr>\n",
       "    <tr>\n",
       "      <th>created_date</th>\n",
       "      <th></th>\n",
       "      <th></th>\n",
       "      <th></th>\n",
       "      <th></th>\n",
       "      <th></th>\n",
       "      <th></th>\n",
       "      <th></th>\n",
       "      <th></th>\n",
       "      <th></th>\n",
       "      <th></th>\n",
       "      <th></th>\n",
       "      <th></th>\n",
       "      <th></th>\n",
       "      <th></th>\n",
       "      <th></th>\n",
       "    </tr>\n",
       "  </thead>\n",
       "  <tbody>\n",
       "    <tr>\n",
       "      <th>2021-07-20 04:00:16.046520</th>\n",
       "      <td>314979233</td>\n",
       "      <td>1</td>\n",
       "      <td>0.980</td>\n",
       "      <td>30236794.0</td>\n",
       "      <td>4668.0</td>\n",
       "      <td>6.0</td>\n",
       "      <td>Cool Cat #4668</td>\n",
       "      <td>0x08d816526bdc9d077dd685bd9fa49f58a5ab8e48</td>\n",
       "      <td>0x02c12f756584029777951ee8bd680d166c13748109c6...</td>\n",
       "      <td>12861162</td>\n",
       "      <td>138163984</td>\n",
       "      <td>2021-07-20T03:59:42</td>\n",
       "      <td>0xb7623e32ee90af7202bfabba05b006f1e997840ee031...</td>\n",
       "      <td>160</td>\n",
       "      <td>0xb47b29cda606cf7e7ed3672c8131eb8124ba3934</td>\n",
       "    </tr>\n",
       "    <tr>\n",
       "      <th>2021-07-20 04:03:27.737959</th>\n",
       "      <td>314988856</td>\n",
       "      <td>1</td>\n",
       "      <td>0.929</td>\n",
       "      <td>30242595.0</td>\n",
       "      <td>6744.0</td>\n",
       "      <td>1.0</td>\n",
       "      <td>Cool Cat #6744</td>\n",
       "      <td>0xb2a2a6a69e7a0ad66943f4c2869d45a9919cf740</td>\n",
       "      <td>0xf034b381780b69e8e40491a9ede4122db29b33a6a4bd...</td>\n",
       "      <td>12861173</td>\n",
       "      <td>138164672</td>\n",
       "      <td>2021-07-20T04:03:07</td>\n",
       "      <td>0x8fd25c0aba4ba0c4fea3de1d19fa1d598ad7c619280e...</td>\n",
       "      <td>79</td>\n",
       "      <td>0x44167790aa6c787fffee17aba51bf55b46c38d06</td>\n",
       "    </tr>\n",
       "    <tr>\n",
       "      <th>2021-07-20 04:12:51.292764</th>\n",
       "      <td>315014075</td>\n",
       "      <td>1</td>\n",
       "      <td>0.990</td>\n",
       "      <td>30234313.0</td>\n",
       "      <td>3856.0</td>\n",
       "      <td>6.0</td>\n",
       "      <td>Cool Cat #3856</td>\n",
       "      <td>0x8c2e56d181465f69c419dcd8760f2ade6372cc8b</td>\n",
       "      <td>0xbf906cf47b266eb984d35e28f251de696b9478cd576f...</td>\n",
       "      <td>12861209</td>\n",
       "      <td>138166889</td>\n",
       "      <td>2021-07-20T04:12:22</td>\n",
       "      <td>0xc35e6807b867b2f060d99de85662c41f760712412275...</td>\n",
       "      <td>94</td>\n",
       "      <td>0xf70a16287894d64d380458be2754d9c1f8296bf6</td>\n",
       "    </tr>\n",
       "    <tr>\n",
       "      <th>2021-07-20 04:13:29.909525</th>\n",
       "      <td>315015896</td>\n",
       "      <td>1</td>\n",
       "      <td>0.900</td>\n",
       "      <td>30246238.0</td>\n",
       "      <td>8611.0</td>\n",
       "      <td>3.0</td>\n",
       "      <td>Cool Cat #8611</td>\n",
       "      <td>0xb697b9455eeee9574ec5c5350cb10c8a5b752a39</td>\n",
       "      <td>0x681b0674b057e132a1ad8d8ee683e3fb349752b8f688...</td>\n",
       "      <td>12861213</td>\n",
       "      <td>138167162</td>\n",
       "      <td>2021-07-20T04:13:05</td>\n",
       "      <td>0x8987265089f680cd0ec4ab1803a6ac592eeadacd13f8...</td>\n",
       "      <td>161</td>\n",
       "      <td>0x7cc220c499162856eceeba2b1c33277455a3cfb7</td>\n",
       "    </tr>\n",
       "    <tr>\n",
       "      <th>2021-07-20 04:15:36.898508</th>\n",
       "      <td>315021013</td>\n",
       "      <td>1</td>\n",
       "      <td>0.860</td>\n",
       "      <td>30229327.0</td>\n",
       "      <td>3004.0</td>\n",
       "      <td>4.0</td>\n",
       "      <td>Cool Cat #3004</td>\n",
       "      <td>0x6e63a4caeccb4f341ee9c9175c9cc554bdb6d10b</td>\n",
       "      <td>0xa4c290e58186a8edabf1b03a77310f1c337241a6883d...</td>\n",
       "      <td>12861219</td>\n",
       "      <td>138167576</td>\n",
       "      <td>2021-07-20T04:14:54</td>\n",
       "      <td>0xd8542f5f5d08ce23b300c52c0fca2a16c57059297233...</td>\n",
       "      <td>259</td>\n",
       "      <td>0xa1cbb86803090bb85a45321d4eb9848ab755363a</td>\n",
       "    </tr>\n",
       "    <tr>\n",
       "      <th>...</th>\n",
       "      <td>...</td>\n",
       "      <td>...</td>\n",
       "      <td>...</td>\n",
       "      <td>...</td>\n",
       "      <td>...</td>\n",
       "      <td>...</td>\n",
       "      <td>...</td>\n",
       "      <td>...</td>\n",
       "      <td>...</td>\n",
       "      <td>...</td>\n",
       "      <td>...</td>\n",
       "      <td>...</td>\n",
       "      <td>...</td>\n",
       "      <td>...</td>\n",
       "      <td>...</td>\n",
       "    </tr>\n",
       "    <tr>\n",
       "      <th>2021-10-22 21:42:21.243043</th>\n",
       "      <td>1497441142</td>\n",
       "      <td>1</td>\n",
       "      <td>8.000</td>\n",
       "      <td>30244830.0</td>\n",
       "      <td>7790.0</td>\n",
       "      <td>2.0</td>\n",
       "      <td>Cool Cat #7790</td>\n",
       "      <td>0x3f304c6721f35ff9af00fd32650c8e0a982180ab</td>\n",
       "      <td>0x384b371f0d5bdc524a6c922892eed8676503e67e5ee2...</td>\n",
       "      <td>13469899</td>\n",
       "      <td>186282723</td>\n",
       "      <td>2021-10-22T21:41:44</td>\n",
       "      <td>0x8a4557fcf5308a2ce403b79196171d18ef84ea123a53...</td>\n",
       "      <td>356</td>\n",
       "      <td>0xab0bfcafa3d6ec73344f195e98695965cd55f9ad</td>\n",
       "    </tr>\n",
       "    <tr>\n",
       "      <th>2021-10-22 21:58:06.614580</th>\n",
       "      <td>1497656848</td>\n",
       "      <td>1</td>\n",
       "      <td>8.500</td>\n",
       "      <td>30244561.0</td>\n",
       "      <td>7698.0</td>\n",
       "      <td>6.0</td>\n",
       "      <td>Cool Cat #7698</td>\n",
       "      <td>0x83b70d7cb2c902f15cc8b38b7aac3e3831d489fc</td>\n",
       "      <td>0xbe76cb44a080bdde48fd4f55ba7451a21809de0647e8...</td>\n",
       "      <td>13469968</td>\n",
       "      <td>186289421</td>\n",
       "      <td>2021-10-22T21:57:36</td>\n",
       "      <td>0xd88488c02ca72495c0388b946f4fc7cd70799ebca4c5...</td>\n",
       "      <td>167</td>\n",
       "      <td>0xce899baf2bec0a66222dc7389614e711e9858580</td>\n",
       "    </tr>\n",
       "    <tr>\n",
       "      <th>2021-10-22 22:09:51.133094</th>\n",
       "      <td>1497817034</td>\n",
       "      <td>1</td>\n",
       "      <td>9.600</td>\n",
       "      <td>30243627.0</td>\n",
       "      <td>7227.0</td>\n",
       "      <td>3.0</td>\n",
       "      <td>Cool Cat #7227</td>\n",
       "      <td>0x3fb9bdda993aafca06a054231f14be520786a69a</td>\n",
       "      <td>0x5eca2a47427d0b9c9d5cec68fd000fc6569bf4e392c8...</td>\n",
       "      <td>13470006</td>\n",
       "      <td>186293565</td>\n",
       "      <td>2021-10-22T22:07:24</td>\n",
       "      <td>0x18959227670c9d91f3f59d1fd6cc3a13c5ac8675f63c...</td>\n",
       "      <td>94</td>\n",
       "      <td>0x38a4d889a1979133fbc1d58f970f0953e3715c26</td>\n",
       "    </tr>\n",
       "    <tr>\n",
       "      <th>2021-10-22 22:46:39.290488</th>\n",
       "      <td>1498272777</td>\n",
       "      <td>1</td>\n",
       "      <td>10.000</td>\n",
       "      <td>30245101.0</td>\n",
       "      <td>7938.0</td>\n",
       "      <td>2.0</td>\n",
       "      <td>Cool Cat #7938</td>\n",
       "      <td>0x0b9e39663f587956c9d21619005668ae9696cca2</td>\n",
       "      <td>0x5ff960894822835baf3baf113f28cf937c25add68ec5...</td>\n",
       "      <td>13470033</td>\n",
       "      <td>186301213</td>\n",
       "      <td>2021-10-22T22:13:51</td>\n",
       "      <td>0x04e9d400dfad34cdc2d95c4d098820cedb7e9f54fc8b...</td>\n",
       "      <td>181</td>\n",
       "      <td>0x38a4d889a1979133fbc1d58f970f0953e3715c26</td>\n",
       "    </tr>\n",
       "    <tr>\n",
       "      <th>2021-10-22 23:06:06.671899</th>\n",
       "      <td>1498511006</td>\n",
       "      <td>1</td>\n",
       "      <td>7.500</td>\n",
       "      <td>30225204.0</td>\n",
       "      <td>2027.0</td>\n",
       "      <td>6.0</td>\n",
       "      <td>Cool Cat #2027</td>\n",
       "      <td>0x008b2e11b65caac5b28f0afa91af5ad83ff6be64</td>\n",
       "      <td>0xebdc4061df13672d189e12a76254c17829b3bcda022c...</td>\n",
       "      <td>13470086</td>\n",
       "      <td>186308163</td>\n",
       "      <td>2021-10-22T22:27:31</td>\n",
       "      <td>0x94acdbb45e22e3df4769f02c444609ff7d67e1c35e96...</td>\n",
       "      <td>45</td>\n",
       "      <td>0x38a4d889a1979133fbc1d58f970f0953e3715c26</td>\n",
       "    </tr>\n",
       "  </tbody>\n",
       "</table>\n",
       "<p>10303 rows × 15 columns</p>\n",
       "</div>"
      ],
      "text/plain": [
       "                                    id  quantity  total_price_eth    asset.id  \\\n",
       "created_date                                                                    \n",
       "2021-07-20 04:00:16.046520   314979233         1            0.980  30236794.0   \n",
       "2021-07-20 04:03:27.737959   314988856         1            0.929  30242595.0   \n",
       "2021-07-20 04:12:51.292764   315014075         1            0.990  30234313.0   \n",
       "2021-07-20 04:13:29.909525   315015896         1            0.900  30246238.0   \n",
       "2021-07-20 04:15:36.898508   315021013         1            0.860  30229327.0   \n",
       "...                                ...       ...              ...         ...   \n",
       "2021-10-22 21:42:21.243043  1497441142         1            8.000  30244830.0   \n",
       "2021-10-22 21:58:06.614580  1497656848         1            8.500  30244561.0   \n",
       "2021-10-22 22:09:51.133094  1497817034         1            9.600  30243627.0   \n",
       "2021-10-22 22:46:39.290488  1498272777         1           10.000  30245101.0   \n",
       "2021-10-22 23:06:06.671899  1498511006         1            7.500  30225204.0   \n",
       "\n",
       "                            asset.token_id  asset.num_sales      asset.name  \\\n",
       "created_date                                                                  \n",
       "2021-07-20 04:00:16.046520          4668.0              6.0  Cool Cat #4668   \n",
       "2021-07-20 04:03:27.737959          6744.0              1.0  Cool Cat #6744   \n",
       "2021-07-20 04:12:51.292764          3856.0              6.0  Cool Cat #3856   \n",
       "2021-07-20 04:13:29.909525          8611.0              3.0  Cool Cat #8611   \n",
       "2021-07-20 04:15:36.898508          3004.0              4.0  Cool Cat #3004   \n",
       "...                                    ...              ...             ...   \n",
       "2021-10-22 21:42:21.243043          7790.0              2.0  Cool Cat #7790   \n",
       "2021-10-22 21:58:06.614580          7698.0              6.0  Cool Cat #7698   \n",
       "2021-10-22 22:09:51.133094          7227.0              3.0  Cool Cat #7227   \n",
       "2021-10-22 22:46:39.290488          7938.0              2.0  Cool Cat #7938   \n",
       "2021-10-22 23:06:06.671899          2027.0              6.0  Cool Cat #2027   \n",
       "\n",
       "                                                        seller.address  \\\n",
       "created_date                                                             \n",
       "2021-07-20 04:00:16.046520  0x08d816526bdc9d077dd685bd9fa49f58a5ab8e48   \n",
       "2021-07-20 04:03:27.737959  0xb2a2a6a69e7a0ad66943f4c2869d45a9919cf740   \n",
       "2021-07-20 04:12:51.292764  0x8c2e56d181465f69c419dcd8760f2ade6372cc8b   \n",
       "2021-07-20 04:13:29.909525  0xb697b9455eeee9574ec5c5350cb10c8a5b752a39   \n",
       "2021-07-20 04:15:36.898508  0x6e63a4caeccb4f341ee9c9175c9cc554bdb6d10b   \n",
       "...                                                                ...   \n",
       "2021-10-22 21:42:21.243043  0x3f304c6721f35ff9af00fd32650c8e0a982180ab   \n",
       "2021-10-22 21:58:06.614580  0x83b70d7cb2c902f15cc8b38b7aac3e3831d489fc   \n",
       "2021-10-22 22:09:51.133094  0x3fb9bdda993aafca06a054231f14be520786a69a   \n",
       "2021-10-22 22:46:39.290488  0x0b9e39663f587956c9d21619005668ae9696cca2   \n",
       "2021-10-22 23:06:06.671899  0x008b2e11b65caac5b28f0afa91af5ad83ff6be64   \n",
       "\n",
       "                                                       transaction.block_hash  \\\n",
       "created_date                                                                    \n",
       "2021-07-20 04:00:16.046520  0x02c12f756584029777951ee8bd680d166c13748109c6...   \n",
       "2021-07-20 04:03:27.737959  0xf034b381780b69e8e40491a9ede4122db29b33a6a4bd...   \n",
       "2021-07-20 04:12:51.292764  0xbf906cf47b266eb984d35e28f251de696b9478cd576f...   \n",
       "2021-07-20 04:13:29.909525  0x681b0674b057e132a1ad8d8ee683e3fb349752b8f688...   \n",
       "2021-07-20 04:15:36.898508  0xa4c290e58186a8edabf1b03a77310f1c337241a6883d...   \n",
       "...                                                                       ...   \n",
       "2021-10-22 21:42:21.243043  0x384b371f0d5bdc524a6c922892eed8676503e67e5ee2...   \n",
       "2021-10-22 21:58:06.614580  0xbe76cb44a080bdde48fd4f55ba7451a21809de0647e8...   \n",
       "2021-10-22 22:09:51.133094  0x5eca2a47427d0b9c9d5cec68fd000fc6569bf4e392c8...   \n",
       "2021-10-22 22:46:39.290488  0x5ff960894822835baf3baf113f28cf937c25add68ec5...   \n",
       "2021-10-22 23:06:06.671899  0xebdc4061df13672d189e12a76254c17829b3bcda022c...   \n",
       "\n",
       "                            transaction.block_number  transaction.id  \\\n",
       "created_date                                                           \n",
       "2021-07-20 04:00:16.046520                  12861162       138163984   \n",
       "2021-07-20 04:03:27.737959                  12861173       138164672   \n",
       "2021-07-20 04:12:51.292764                  12861209       138166889   \n",
       "2021-07-20 04:13:29.909525                  12861213       138167162   \n",
       "2021-07-20 04:15:36.898508                  12861219       138167576   \n",
       "...                                              ...             ...   \n",
       "2021-10-22 21:42:21.243043                  13469899       186282723   \n",
       "2021-10-22 21:58:06.614580                  13469968       186289421   \n",
       "2021-10-22 22:09:51.133094                  13470006       186293565   \n",
       "2021-10-22 22:46:39.290488                  13470033       186301213   \n",
       "2021-10-22 23:06:06.671899                  13470086       186308163   \n",
       "\n",
       "                           transaction.timestamp  \\\n",
       "created_date                                       \n",
       "2021-07-20 04:00:16.046520   2021-07-20T03:59:42   \n",
       "2021-07-20 04:03:27.737959   2021-07-20T04:03:07   \n",
       "2021-07-20 04:12:51.292764   2021-07-20T04:12:22   \n",
       "2021-07-20 04:13:29.909525   2021-07-20T04:13:05   \n",
       "2021-07-20 04:15:36.898508   2021-07-20T04:14:54   \n",
       "...                                          ...   \n",
       "2021-10-22 21:42:21.243043   2021-10-22T21:41:44   \n",
       "2021-10-22 21:58:06.614580   2021-10-22T21:57:36   \n",
       "2021-10-22 22:09:51.133094   2021-10-22T22:07:24   \n",
       "2021-10-22 22:46:39.290488   2021-10-22T22:13:51   \n",
       "2021-10-22 23:06:06.671899   2021-10-22T22:27:31   \n",
       "\n",
       "                                                 transaction.transaction_hash  \\\n",
       "created_date                                                                    \n",
       "2021-07-20 04:00:16.046520  0xb7623e32ee90af7202bfabba05b006f1e997840ee031...   \n",
       "2021-07-20 04:03:27.737959  0x8fd25c0aba4ba0c4fea3de1d19fa1d598ad7c619280e...   \n",
       "2021-07-20 04:12:51.292764  0xc35e6807b867b2f060d99de85662c41f760712412275...   \n",
       "2021-07-20 04:13:29.909525  0x8987265089f680cd0ec4ab1803a6ac592eeadacd13f8...   \n",
       "2021-07-20 04:15:36.898508  0xd8542f5f5d08ce23b300c52c0fca2a16c57059297233...   \n",
       "...                                                                       ...   \n",
       "2021-10-22 21:42:21.243043  0x8a4557fcf5308a2ce403b79196171d18ef84ea123a53...   \n",
       "2021-10-22 21:58:06.614580  0xd88488c02ca72495c0388b946f4fc7cd70799ebca4c5...   \n",
       "2021-10-22 22:09:51.133094  0x18959227670c9d91f3f59d1fd6cc3a13c5ac8675f63c...   \n",
       "2021-10-22 22:46:39.290488  0x04e9d400dfad34cdc2d95c4d098820cedb7e9f54fc8b...   \n",
       "2021-10-22 23:06:06.671899  0x94acdbb45e22e3df4769f02c444609ff7d67e1c35e96...   \n",
       "\n",
       "                            transaction.transaction_index  \\\n",
       "created_date                                                \n",
       "2021-07-20 04:00:16.046520                            160   \n",
       "2021-07-20 04:03:27.737959                             79   \n",
       "2021-07-20 04:12:51.292764                             94   \n",
       "2021-07-20 04:13:29.909525                            161   \n",
       "2021-07-20 04:15:36.898508                            259   \n",
       "...                                                   ...   \n",
       "2021-10-22 21:42:21.243043                            356   \n",
       "2021-10-22 21:58:06.614580                            167   \n",
       "2021-10-22 22:09:51.133094                             94   \n",
       "2021-10-22 22:46:39.290488                            181   \n",
       "2021-10-22 23:06:06.671899                             45   \n",
       "\n",
       "                                                winner_account.address  \n",
       "created_date                                                            \n",
       "2021-07-20 04:00:16.046520  0xb47b29cda606cf7e7ed3672c8131eb8124ba3934  \n",
       "2021-07-20 04:03:27.737959  0x44167790aa6c787fffee17aba51bf55b46c38d06  \n",
       "2021-07-20 04:12:51.292764  0xf70a16287894d64d380458be2754d9c1f8296bf6  \n",
       "2021-07-20 04:13:29.909525  0x7cc220c499162856eceeba2b1c33277455a3cfb7  \n",
       "2021-07-20 04:15:36.898508  0xa1cbb86803090bb85a45321d4eb9848ab755363a  \n",
       "...                                                                ...  \n",
       "2021-10-22 21:42:21.243043  0xab0bfcafa3d6ec73344f195e98695965cd55f9ad  \n",
       "2021-10-22 21:58:06.614580  0xce899baf2bec0a66222dc7389614e711e9858580  \n",
       "2021-10-22 22:09:51.133094  0x38a4d889a1979133fbc1d58f970f0953e3715c26  \n",
       "2021-10-22 22:46:39.290488  0x38a4d889a1979133fbc1d58f970f0953e3715c26  \n",
       "2021-10-22 23:06:06.671899  0x38a4d889a1979133fbc1d58f970f0953e3715c26  \n",
       "\n",
       "[10303 rows x 15 columns]"
      ]
     },
     "execution_count": 4,
     "metadata": {},
     "output_type": "execute_result"
    }
   ],
   "source": [
    "coolcats_df"
   ]
  },
  {
   "cell_type": "code",
   "execution_count": 5,
   "metadata": {
    "scrolled": true
   },
   "outputs": [
    {
     "data": {
      "text/plain": [
       "<AxesSubplot:xlabel='created_date'>"
      ]
     },
     "execution_count": 5,
     "metadata": {},
     "output_type": "execute_result"
    },
    {
     "data": {
      "image/png": "[encoded data removed]",
      "text/plain": [
       "<Figure size 432x288 with 1 Axes>"
      ]
     },
     "metadata": {
      "needs_background": "light"
     },
     "output_type": "display_data"
    }
   ],
   "source": [
    "#basic plot function to peep data with no sampling\n",
    "coolcats_df[\"total_price_eth\"].plot()"
   ]
  },
  {
   "cell_type": "markdown",
   "metadata": {},
   "source": [
    "The imported CSV needs to be converted to a time series and re-indexed by date again. Let's do this quickly."
   ]
  },
  {
   "cell_type": "code",
   "execution_count": 6,
   "metadata": {},
   "outputs": [],
   "source": [
    "coolcats_df.index = pd.to_datetime(coolcats_df.index)\n"
   ]
  },
  {
   "cell_type": "code",
   "execution_count": 7,
   "metadata": {},
   "outputs": [
    {
     "data": {
      "text/plain": [
       "DatetimeIndex(['2021-07-20 04:00:16.046520', '2021-07-20 04:03:27.737959',\n",
       "               '2021-07-20 04:12:51.292764', '2021-07-20 04:13:29.909525',\n",
       "               '2021-07-20 04:15:36.898508', '2021-07-20 04:16:54.498247',\n",
       "               '2021-07-20 04:18:41.559872', '2021-07-20 04:19:02.531511',\n",
       "               '2021-07-20 04:20:54.626061', '2021-07-20 04:21:43.870821',\n",
       "               ...\n",
       "               '2021-10-22 19:24:40.289438', '2021-10-22 19:29:11.447268',\n",
       "               '2021-10-22 20:25:35.338635', '2021-10-22 20:32:53.337100',\n",
       "               '2021-10-22 21:39:46.672041', '2021-10-22 21:42:21.243043',\n",
       "               '2021-10-22 21:58:06.614580', '2021-10-22 22:09:51.133094',\n",
       "               '2021-10-22 22:46:39.290488', '2021-10-22 23:06:06.671899'],\n",
       "              dtype='datetime64[ns]', name='created_date', length=10303, freq=None)"
      ]
     },
     "execution_count": 7,
     "metadata": {},
     "output_type": "execute_result"
    }
   ],
   "source": [
    "coolcats_df.index"
   ]
  },
  {
   "cell_type": "code",
   "execution_count": 18,
   "metadata": {},
   "outputs": [
    {
     "data": {
      "text/plain": [
       "<AxesSubplot:xlabel='created_date'>"
      ]
     },
     "execution_count": 18,
     "metadata": {},
     "output_type": "execute_result"
    },
    {
     "data": {
      "image/png": "[encoded data removed]",
      "text/plain": [
       "<Figure size 432x288 with 1 Axes>"
      ]
     },
     "metadata": {
      "needs_background": "light"
     },
     "output_type": "display_data"
    }
   ],
   "source": [
    "#basic plot function to peep data with no sampling\n",
    "coolcats_df[\"total_price_eth\"].plot()"
   ]
  },
  {
   "cell_type": "code",
   "execution_count": 16,
   "metadata": {},
   "outputs": [],
   "source": [
    "#are sales higher at a certain hour?\n",
    "\n"
   ]
  },
  {
   "cell_type": "code",
   "execution_count": 8,
   "metadata": {},
   "outputs": [],
   "source": [
    "coolcats_df_viz = coolcats_df"
   ]
  },
  {
   "cell_type": "code",
   "execution_count": 9,
   "metadata": {},
   "outputs": [],
   "source": [
    "coolcats_df_viz[\"year\"] = coolcats_df_viz.index.year\n",
    "coolcats_df_viz[\"month\"] = coolcats_df_viz.index.month\n",
    "coolcats_df_viz[\"hour\"] = coolcats_df_viz.index.hour\n",
    "coolcats_df_viz[\"weekday\"] = coolcats_df_viz.index.day_name()"
   ]
  },
  {
   "cell_type": "code",
   "execution_count": 10,
   "metadata": {},
   "outputs": [
    {
     "data": {
      "text/html": [
       "<div>\n",
       "<style scoped>\n",
       "    .dataframe tbody tr th:only-of-type {\n",
       "        vertical-align: middle;\n",
       "    }\n",
       "\n",
       "    .dataframe tbody tr th {\n",
       "        vertical-align: top;\n",
       "    }\n",
       "\n",
       "    .dataframe thead th {\n",
       "        text-align: right;\n",
       "    }\n",
       "</style>\n",
       "<table border=\"1\" class=\"dataframe\">\n",
       "  <thead>\n",
       "    <tr style=\"text-align: right;\">\n",
       "      <th></th>\n",
       "      <th>id</th>\n",
       "      <th>quantity</th>\n",
       "      <th>total_price_eth</th>\n",
       "      <th>asset.id</th>\n",
       "      <th>asset.token_id</th>\n",
       "      <th>asset.num_sales</th>\n",
       "      <th>asset.name</th>\n",
       "      <th>seller.address</th>\n",
       "      <th>transaction.block_hash</th>\n",
       "      <th>transaction.block_number</th>\n",
       "      <th>transaction.id</th>\n",
       "      <th>transaction.timestamp</th>\n",
       "      <th>transaction.transaction_hash</th>\n",
       "      <th>transaction.transaction_index</th>\n",
       "      <th>winner_account.address</th>\n",
       "      <th>year</th>\n",
       "      <th>month</th>\n",
       "      <th>hour</th>\n",
       "      <th>weekday</th>\n",
       "    </tr>\n",
       "    <tr>\n",
       "      <th>created_date</th>\n",
       "      <th></th>\n",
       "      <th></th>\n",
       "      <th></th>\n",
       "      <th></th>\n",
       "      <th></th>\n",
       "      <th></th>\n",
       "      <th></th>\n",
       "      <th></th>\n",
       "      <th></th>\n",
       "      <th></th>\n",
       "      <th></th>\n",
       "      <th></th>\n",
       "      <th></th>\n",
       "      <th></th>\n",
       "      <th></th>\n",
       "      <th></th>\n",
       "      <th></th>\n",
       "      <th></th>\n",
       "      <th></th>\n",
       "    </tr>\n",
       "  </thead>\n",
       "  <tbody>\n",
       "    <tr>\n",
       "      <th>2021-07-20 04:00:16.046520</th>\n",
       "      <td>314979233</td>\n",
       "      <td>1</td>\n",
       "      <td>0.980</td>\n",
       "      <td>30236794.0</td>\n",
       "      <td>4668.0</td>\n",
       "      <td>6.0</td>\n",
       "      <td>Cool Cat #4668</td>\n",
       "      <td>0x08d816526bdc9d077dd685bd9fa49f58a5ab8e48</td>\n",
       "      <td>0x02c12f756584029777951ee8bd680d166c13748109c6...</td>\n",
       "      <td>12861162</td>\n",
       "      <td>138163984</td>\n",
       "      <td>2021-07-20T03:59:42</td>\n",
       "      <td>0xb7623e32ee90af7202bfabba05b006f1e997840ee031...</td>\n",
       "      <td>160</td>\n",
       "      <td>0xb47b29cda606cf7e7ed3672c8131eb8124ba3934</td>\n",
       "      <td>2021</td>\n",
       "      <td>7</td>\n",
       "      <td>4</td>\n",
       "      <td>Tuesday</td>\n",
       "    </tr>\n",
       "    <tr>\n",
       "      <th>2021-07-20 04:03:27.737959</th>\n",
       "      <td>314988856</td>\n",
       "      <td>1</td>\n",
       "      <td>0.929</td>\n",
       "      <td>30242595.0</td>\n",
       "      <td>6744.0</td>\n",
       "      <td>1.0</td>\n",
       "      <td>Cool Cat #6744</td>\n",
       "      <td>0xb2a2a6a69e7a0ad66943f4c2869d45a9919cf740</td>\n",
       "      <td>0xf034b381780b69e8e40491a9ede4122db29b33a6a4bd...</td>\n",
       "      <td>12861173</td>\n",
       "      <td>138164672</td>\n",
       "      <td>2021-07-20T04:03:07</td>\n",
       "      <td>0x8fd25c0aba4ba0c4fea3de1d19fa1d598ad7c619280e...</td>\n",
       "      <td>79</td>\n",
       "      <td>0x44167790aa6c787fffee17aba51bf55b46c38d06</td>\n",
       "      <td>2021</td>\n",
       "      <td>7</td>\n",
       "      <td>4</td>\n",
       "      <td>Tuesday</td>\n",
       "    </tr>\n",
       "    <tr>\n",
       "      <th>2021-07-20 04:12:51.292764</th>\n",
       "      <td>315014075</td>\n",
       "      <td>1</td>\n",
       "      <td>0.990</td>\n",
       "      <td>30234313.0</td>\n",
       "      <td>3856.0</td>\n",
       "      <td>6.0</td>\n",
       "      <td>Cool Cat #3856</td>\n",
       "      <td>0x8c2e56d181465f69c419dcd8760f2ade6372cc8b</td>\n",
       "      <td>0xbf906cf47b266eb984d35e28f251de696b9478cd576f...</td>\n",
       "      <td>12861209</td>\n",
       "      <td>138166889</td>\n",
       "      <td>2021-07-20T04:12:22</td>\n",
       "      <td>0xc35e6807b867b2f060d99de85662c41f760712412275...</td>\n",
       "      <td>94</td>\n",
       "      <td>0xf70a16287894d64d380458be2754d9c1f8296bf6</td>\n",
       "      <td>2021</td>\n",
       "      <td>7</td>\n",
       "      <td>4</td>\n",
       "      <td>Tuesday</td>\n",
       "    </tr>\n",
       "    <tr>\n",
       "      <th>2021-07-20 04:13:29.909525</th>\n",
       "      <td>315015896</td>\n",
       "      <td>1</td>\n",
       "      <td>0.900</td>\n",
       "      <td>30246238.0</td>\n",
       "      <td>8611.0</td>\n",
       "      <td>3.0</td>\n",
       "      <td>Cool Cat #8611</td>\n",
       "      <td>0xb697b9455eeee9574ec5c5350cb10c8a5b752a39</td>\n",
       "      <td>0x681b0674b057e132a1ad8d8ee683e3fb349752b8f688...</td>\n",
       "      <td>12861213</td>\n",
       "      <td>138167162</td>\n",
       "      <td>2021-07-20T04:13:05</td>\n",
       "      <td>0x8987265089f680cd0ec4ab1803a6ac592eeadacd13f8...</td>\n",
       "      <td>161</td>\n",
       "      <td>0x7cc220c499162856eceeba2b1c33277455a3cfb7</td>\n",
       "      <td>2021</td>\n",
       "      <td>7</td>\n",
       "      <td>4</td>\n",
       "      <td>Tuesday</td>\n",
       "    </tr>\n",
       "    <tr>\n",
       "      <th>2021-07-20 04:15:36.898508</th>\n",
       "      <td>315021013</td>\n",
       "      <td>1</td>\n",
       "      <td>0.860</td>\n",
       "      <td>30229327.0</td>\n",
       "      <td>3004.0</td>\n",
       "      <td>4.0</td>\n",
       "      <td>Cool Cat #3004</td>\n",
       "      <td>0x6e63a4caeccb4f341ee9c9175c9cc554bdb6d10b</td>\n",
       "      <td>0xa4c290e58186a8edabf1b03a77310f1c337241a6883d...</td>\n",
       "      <td>12861219</td>\n",
       "      <td>138167576</td>\n",
       "      <td>2021-07-20T04:14:54</td>\n",
       "      <td>0xd8542f5f5d08ce23b300c52c0fca2a16c57059297233...</td>\n",
       "      <td>259</td>\n",
       "      <td>0xa1cbb86803090bb85a45321d4eb9848ab755363a</td>\n",
       "      <td>2021</td>\n",
       "      <td>7</td>\n",
       "      <td>4</td>\n",
       "      <td>Tuesday</td>\n",
       "    </tr>\n",
       "    <tr>\n",
       "      <th>...</th>\n",
       "      <td>...</td>\n",
       "      <td>...</td>\n",
       "      <td>...</td>\n",
       "      <td>...</td>\n",
       "      <td>...</td>\n",
       "      <td>...</td>\n",
       "      <td>...</td>\n",
       "      <td>...</td>\n",
       "      <td>...</td>\n",
       "      <td>...</td>\n",
       "      <td>...</td>\n",
       "      <td>...</td>\n",
       "      <td>...</td>\n",
       "      <td>...</td>\n",
       "      <td>...</td>\n",
       "      <td>...</td>\n",
       "      <td>...</td>\n",
       "      <td>...</td>\n",
       "      <td>...</td>\n",
       "    </tr>\n",
       "    <tr>\n",
       "      <th>2021-10-22 21:42:21.243043</th>\n",
       "      <td>1497441142</td>\n",
       "      <td>1</td>\n",
       "      <td>8.000</td>\n",
       "      <td>30244830.0</td>\n",
       "      <td>7790.0</td>\n",
       "      <td>2.0</td>\n",
       "      <td>Cool Cat #7790</td>\n",
       "      <td>0x3f304c6721f35ff9af00fd32650c8e0a982180ab</td>\n",
       "      <td>0x384b371f0d5bdc524a6c922892eed8676503e67e5ee2...</td>\n",
       "      <td>13469899</td>\n",
       "      <td>186282723</td>\n",
       "      <td>2021-10-22T21:41:44</td>\n",
       "      <td>0x8a4557fcf5308a2ce403b79196171d18ef84ea123a53...</td>\n",
       "      <td>356</td>\n",
       "      <td>0xab0bfcafa3d6ec73344f195e98695965cd55f9ad</td>\n",
       "      <td>2021</td>\n",
       "      <td>10</td>\n",
       "      <td>21</td>\n",
       "      <td>Friday</td>\n",
       "    </tr>\n",
       "    <tr>\n",
       "      <th>2021-10-22 21:58:06.614580</th>\n",
       "      <td>1497656848</td>\n",
       "      <td>1</td>\n",
       "      <td>8.500</td>\n",
       "      <td>30244561.0</td>\n",
       "      <td>7698.0</td>\n",
       "      <td>6.0</td>\n",
       "      <td>Cool Cat #7698</td>\n",
       "      <td>0x83b70d7cb2c902f15cc8b38b7aac3e3831d489fc</td>\n",
       "      <td>0xbe76cb44a080bdde48fd4f55ba7451a21809de0647e8...</td>\n",
       "      <td>13469968</td>\n",
       "      <td>186289421</td>\n",
       "      <td>2021-10-22T21:57:36</td>\n",
       "      <td>0xd88488c02ca72495c0388b946f4fc7cd70799ebca4c5...</td>\n",
       "      <td>167</td>\n",
       "      <td>0xce899baf2bec0a66222dc7389614e711e9858580</td>\n",
       "      <td>2021</td>\n",
       "      <td>10</td>\n",
       "      <td>21</td>\n",
       "      <td>Friday</td>\n",
       "    </tr>\n",
       "    <tr>\n",
       "      <th>2021-10-22 22:09:51.133094</th>\n",
       "      <td>1497817034</td>\n",
       "      <td>1</td>\n",
       "      <td>9.600</td>\n",
       "      <td>30243627.0</td>\n",
       "      <td>7227.0</td>\n",
       "      <td>3.0</td>\n",
       "      <td>Cool Cat #7227</td>\n",
       "      <td>0x3fb9bdda993aafca06a054231f14be520786a69a</td>\n",
       "      <td>0x5eca2a47427d0b9c9d5cec68fd000fc6569bf4e392c8...</td>\n",
       "      <td>13470006</td>\n",
       "      <td>186293565</td>\n",
       "      <td>2021-10-22T22:07:24</td>\n",
       "      <td>0x18959227670c9d91f3f59d1fd6cc3a13c5ac8675f63c...</td>\n",
       "      <td>94</td>\n",
       "      <td>0x38a4d889a1979133fbc1d58f970f0953e3715c26</td>\n",
       "      <td>2021</td>\n",
       "      <td>10</td>\n",
       "      <td>22</td>\n",
       "      <td>Friday</td>\n",
       "    </tr>\n",
       "    <tr>\n",
       "      <th>2021-10-22 22:46:39.290488</th>\n",
       "      <td>1498272777</td>\n",
       "      <td>1</td>\n",
       "      <td>10.000</td>\n",
       "      <td>30245101.0</td>\n",
       "      <td>7938.0</td>\n",
       "      <td>2.0</td>\n",
       "      <td>Cool Cat #7938</td>\n",
       "      <td>0x0b9e39663f587956c9d21619005668ae9696cca2</td>\n",
       "      <td>0x5ff960894822835baf3baf113f28cf937c25add68ec5...</td>\n",
       "      <td>13470033</td>\n",
       "      <td>186301213</td>\n",
       "      <td>2021-10-22T22:13:51</td>\n",
       "      <td>0x04e9d400dfad34cdc2d95c4d098820cedb7e9f54fc8b...</td>\n",
       "      <td>181</td>\n",
       "      <td>0x38a4d889a1979133fbc1d58f970f0953e3715c26</td>\n",
       "      <td>2021</td>\n",
       "      <td>10</td>\n",
       "      <td>22</td>\n",
       "      <td>Friday</td>\n",
       "    </tr>\n",
       "    <tr>\n",
       "      <th>2021-10-22 23:06:06.671899</th>\n",
       "      <td>1498511006</td>\n",
       "      <td>1</td>\n",
       "      <td>7.500</td>\n",
       "      <td>30225204.0</td>\n",
       "      <td>2027.0</td>\n",
       "      <td>6.0</td>\n",
       "      <td>Cool Cat #2027</td>\n",
       "      <td>0x008b2e11b65caac5b28f0afa91af5ad83ff6be64</td>\n",
       "      <td>0xebdc4061df13672d189e12a76254c17829b3bcda022c...</td>\n",
       "      <td>13470086</td>\n",
       "      <td>186308163</td>\n",
       "      <td>2021-10-22T22:27:31</td>\n",
       "      <td>0x94acdbb45e22e3df4769f02c444609ff7d67e1c35e96...</td>\n",
       "      <td>45</td>\n",
       "      <td>0x38a4d889a1979133fbc1d58f970f0953e3715c26</td>\n",
       "      <td>2021</td>\n",
       "      <td>10</td>\n",
       "      <td>23</td>\n",
       "      <td>Friday</td>\n",
       "    </tr>\n",
       "  </tbody>\n",
       "</table>\n",
       "<p>10303 rows × 19 columns</p>\n",
       "</div>"
      ],
      "text/plain": [
       "                                    id  quantity  total_price_eth    asset.id  \\\n",
       "created_date                                                                    \n",
       "2021-07-20 04:00:16.046520   314979233         1            0.980  30236794.0   \n",
       "2021-07-20 04:03:27.737959   314988856         1            0.929  30242595.0   \n",
       "2021-07-20 04:12:51.292764   315014075         1            0.990  30234313.0   \n",
       "2021-07-20 04:13:29.909525   315015896         1            0.900  30246238.0   \n",
       "2021-07-20 04:15:36.898508   315021013         1            0.860  30229327.0   \n",
       "...                                ...       ...              ...         ...   \n",
       "2021-10-22 21:42:21.243043  1497441142         1            8.000  30244830.0   \n",
       "2021-10-22 21:58:06.614580  1497656848         1            8.500  30244561.0   \n",
       "2021-10-22 22:09:51.133094  1497817034         1            9.600  30243627.0   \n",
       "2021-10-22 22:46:39.290488  1498272777         1           10.000  30245101.0   \n",
       "2021-10-22 23:06:06.671899  1498511006         1            7.500  30225204.0   \n",
       "\n",
       "                            asset.token_id  asset.num_sales      asset.name  \\\n",
       "created_date                                                                  \n",
       "2021-07-20 04:00:16.046520          4668.0              6.0  Cool Cat #4668   \n",
       "2021-07-20 04:03:27.737959          6744.0              1.0  Cool Cat #6744   \n",
       "2021-07-20 04:12:51.292764          3856.0              6.0  Cool Cat #3856   \n",
       "2021-07-20 04:13:29.909525          8611.0              3.0  Cool Cat #8611   \n",
       "2021-07-20 04:15:36.898508          3004.0              4.0  Cool Cat #3004   \n",
       "...                                    ...              ...             ...   \n",
       "2021-10-22 21:42:21.243043          7790.0              2.0  Cool Cat #7790   \n",
       "2021-10-22 21:58:06.614580          7698.0              6.0  Cool Cat #7698   \n",
       "2021-10-22 22:09:51.133094          7227.0              3.0  Cool Cat #7227   \n",
       "2021-10-22 22:46:39.290488          7938.0              2.0  Cool Cat #7938   \n",
       "2021-10-22 23:06:06.671899          2027.0              6.0  Cool Cat #2027   \n",
       "\n",
       "                                                        seller.address  \\\n",
       "created_date                                                             \n",
       "2021-07-20 04:00:16.046520  0x08d816526bdc9d077dd685bd9fa49f58a5ab8e48   \n",
       "2021-07-20 04:03:27.737959  0xb2a2a6a69e7a0ad66943f4c2869d45a9919cf740   \n",
       "2021-07-20 04:12:51.292764  0x8c2e56d181465f69c419dcd8760f2ade6372cc8b   \n",
       "2021-07-20 04:13:29.909525  0xb697b9455eeee9574ec5c5350cb10c8a5b752a39   \n",
       "2021-07-20 04:15:36.898508  0x6e63a4caeccb4f341ee9c9175c9cc554bdb6d10b   \n",
       "...                                                                ...   \n",
       "2021-10-22 21:42:21.243043  0x3f304c6721f35ff9af00fd32650c8e0a982180ab   \n",
       "2021-10-22 21:58:06.614580  0x83b70d7cb2c902f15cc8b38b7aac3e3831d489fc   \n",
       "2021-10-22 22:09:51.133094  0x3fb9bdda993aafca06a054231f14be520786a69a   \n",
       "2021-10-22 22:46:39.290488  0x0b9e39663f587956c9d21619005668ae9696cca2   \n",
       "2021-10-22 23:06:06.671899  0x008b2e11b65caac5b28f0afa91af5ad83ff6be64   \n",
       "\n",
       "                                                       transaction.block_hash  \\\n",
       "created_date                                                                    \n",
       "2021-07-20 04:00:16.046520  0x02c12f756584029777951ee8bd680d166c13748109c6...   \n",
       "2021-07-20 04:03:27.737959  0xf034b381780b69e8e40491a9ede4122db29b33a6a4bd...   \n",
       "2021-07-20 04:12:51.292764  0xbf906cf47b266eb984d35e28f251de696b9478cd576f...   \n",
       "2021-07-20 04:13:29.909525  0x681b0674b057e132a1ad8d8ee683e3fb349752b8f688...   \n",
       "2021-07-20 04:15:36.898508  0xa4c290e58186a8edabf1b03a77310f1c337241a6883d...   \n",
       "...                                                                       ...   \n",
       "2021-10-22 21:42:21.243043  0x384b371f0d5bdc524a6c922892eed8676503e67e5ee2...   \n",
       "2021-10-22 21:58:06.614580  0xbe76cb44a080bdde48fd4f55ba7451a21809de0647e8...   \n",
       "2021-10-22 22:09:51.133094  0x5eca2a47427d0b9c9d5cec68fd000fc6569bf4e392c8...   \n",
       "2021-10-22 22:46:39.290488  0x5ff960894822835baf3baf113f28cf937c25add68ec5...   \n",
       "2021-10-22 23:06:06.671899  0xebdc4061df13672d189e12a76254c17829b3bcda022c...   \n",
       "\n",
       "                            transaction.block_number  transaction.id  \\\n",
       "created_date                                                           \n",
       "2021-07-20 04:00:16.046520                  12861162       138163984   \n",
       "2021-07-20 04:03:27.737959                  12861173       138164672   \n",
       "2021-07-20 04:12:51.292764                  12861209       138166889   \n",
       "2021-07-20 04:13:29.909525                  12861213       138167162   \n",
       "2021-07-20 04:15:36.898508                  12861219       138167576   \n",
       "...                                              ...             ...   \n",
       "2021-10-22 21:42:21.243043                  13469899       186282723   \n",
       "2021-10-22 21:58:06.614580                  13469968       186289421   \n",
       "2021-10-22 22:09:51.133094                  13470006       186293565   \n",
       "2021-10-22 22:46:39.290488                  13470033       186301213   \n",
       "2021-10-22 23:06:06.671899                  13470086       186308163   \n",
       "\n",
       "                           transaction.timestamp  \\\n",
       "created_date                                       \n",
       "2021-07-20 04:00:16.046520   2021-07-20T03:59:42   \n",
       "2021-07-20 04:03:27.737959   2021-07-20T04:03:07   \n",
       "2021-07-20 04:12:51.292764   2021-07-20T04:12:22   \n",
       "2021-07-20 04:13:29.909525   2021-07-20T04:13:05   \n",
       "2021-07-20 04:15:36.898508   2021-07-20T04:14:54   \n",
       "...                                          ...   \n",
       "2021-10-22 21:42:21.243043   2021-10-22T21:41:44   \n",
       "2021-10-22 21:58:06.614580   2021-10-22T21:57:36   \n",
       "2021-10-22 22:09:51.133094   2021-10-22T22:07:24   \n",
       "2021-10-22 22:46:39.290488   2021-10-22T22:13:51   \n",
       "2021-10-22 23:06:06.671899   2021-10-22T22:27:31   \n",
       "\n",
       "                                                 transaction.transaction_hash  \\\n",
       "created_date                                                                    \n",
       "2021-07-20 04:00:16.046520  0xb7623e32ee90af7202bfabba05b006f1e997840ee031...   \n",
       "2021-07-20 04:03:27.737959  0x8fd25c0aba4ba0c4fea3de1d19fa1d598ad7c619280e...   \n",
       "2021-07-20 04:12:51.292764  0xc35e6807b867b2f060d99de85662c41f760712412275...   \n",
       "2021-07-20 04:13:29.909525  0x8987265089f680cd0ec4ab1803a6ac592eeadacd13f8...   \n",
       "2021-07-20 04:15:36.898508  0xd8542f5f5d08ce23b300c52c0fca2a16c57059297233...   \n",
       "...                                                                       ...   \n",
       "2021-10-22 21:42:21.243043  0x8a4557fcf5308a2ce403b79196171d18ef84ea123a53...   \n",
       "2021-10-22 21:58:06.614580  0xd88488c02ca72495c0388b946f4fc7cd70799ebca4c5...   \n",
       "2021-10-22 22:09:51.133094  0x18959227670c9d91f3f59d1fd6cc3a13c5ac8675f63c...   \n",
       "2021-10-22 22:46:39.290488  0x04e9d400dfad34cdc2d95c4d098820cedb7e9f54fc8b...   \n",
       "2021-10-22 23:06:06.671899  0x94acdbb45e22e3df4769f02c444609ff7d67e1c35e96...   \n",
       "\n",
       "                            transaction.transaction_index  \\\n",
       "created_date                                                \n",
       "2021-07-20 04:00:16.046520                            160   \n",
       "2021-07-20 04:03:27.737959                             79   \n",
       "2021-07-20 04:12:51.292764                             94   \n",
       "2021-07-20 04:13:29.909525                            161   \n",
       "2021-07-20 04:15:36.898508                            259   \n",
       "...                                                   ...   \n",
       "2021-10-22 21:42:21.243043                            356   \n",
       "2021-10-22 21:58:06.614580                            167   \n",
       "2021-10-22 22:09:51.133094                             94   \n",
       "2021-10-22 22:46:39.290488                            181   \n",
       "2021-10-22 23:06:06.671899                             45   \n",
       "\n",
       "                                                winner_account.address  year  \\\n",
       "created_date                                                                   \n",
       "2021-07-20 04:00:16.046520  0xb47b29cda606cf7e7ed3672c8131eb8124ba3934  2021   \n",
       "2021-07-20 04:03:27.737959  0x44167790aa6c787fffee17aba51bf55b46c38d06  2021   \n",
       "2021-07-20 04:12:51.292764  0xf70a16287894d64d380458be2754d9c1f8296bf6  2021   \n",
       "2021-07-20 04:13:29.909525  0x7cc220c499162856eceeba2b1c33277455a3cfb7  2021   \n",
       "2021-07-20 04:15:36.898508  0xa1cbb86803090bb85a45321d4eb9848ab755363a  2021   \n",
       "...                                                                ...   ...   \n",
       "2021-10-22 21:42:21.243043  0xab0bfcafa3d6ec73344f195e98695965cd55f9ad  2021   \n",
       "2021-10-22 21:58:06.614580  0xce899baf2bec0a66222dc7389614e711e9858580  2021   \n",
       "2021-10-22 22:09:51.133094  0x38a4d889a1979133fbc1d58f970f0953e3715c26  2021   \n",
       "2021-10-22 22:46:39.290488  0x38a4d889a1979133fbc1d58f970f0953e3715c26  2021   \n",
       "2021-10-22 23:06:06.671899  0x38a4d889a1979133fbc1d58f970f0953e3715c26  2021   \n",
       "\n",
       "                            month  hour  weekday  \n",
       "created_date                                      \n",
       "2021-07-20 04:00:16.046520      7     4  Tuesday  \n",
       "2021-07-20 04:03:27.737959      7     4  Tuesday  \n",
       "2021-07-20 04:12:51.292764      7     4  Tuesday  \n",
       "2021-07-20 04:13:29.909525      7     4  Tuesday  \n",
       "2021-07-20 04:15:36.898508      7     4  Tuesday  \n",
       "...                           ...   ...      ...  \n",
       "2021-10-22 21:42:21.243043     10    21   Friday  \n",
       "2021-10-22 21:58:06.614580     10    21   Friday  \n",
       "2021-10-22 22:09:51.133094     10    22   Friday  \n",
       "2021-10-22 22:46:39.290488     10    22   Friday  \n",
       "2021-10-22 23:06:06.671899     10    23   Friday  \n",
       "\n",
       "[10303 rows x 19 columns]"
      ]
     },
     "execution_count": 10,
     "metadata": {},
     "output_type": "execute_result"
    }
   ],
   "source": [
    "coolcats_df_viz"
   ]
  },
  {
   "cell_type": "code",
   "execution_count": 31,
   "metadata": {},
   "outputs": [],
   "source": [
    "#lets plot this data a few different ways to get an understanding of what drives sales volume "
   ]
  },
  {
   "cell_type": "code",
   "execution_count": 11,
   "metadata": {},
   "outputs": [],
   "source": [
    "weekdays = coolcats_df_viz[\"weekday\"].value_counts()"
   ]
  },
  {
   "cell_type": "code",
   "execution_count": 12,
   "metadata": {},
   "outputs": [
    {
     "data": {
      "text/plain": [
       "<AxesSubplot:ylabel='weekday'>"
      ]
     },
     "execution_count": 12,
     "metadata": {},
     "output_type": "execute_result"
    },
    {
     "data": {
      "image/png": "[encoded data removed]",
      "text/plain": [
       "<Figure size 432x288 with 1 Axes>"
      ]
     },
     "metadata": {
      "needs_background": "light"
     },
     "output_type": "display_data"
    }
   ],
   "source": [
    "fig, ax = plt.subplots()\n",
    "\n",
    "x = weekdays.index\n",
    "y = weekdays\n",
    "sns.barplot(x=x, y=y)"
   ]
  },
  {
   "cell_type": "markdown",
   "metadata": {},
   "source": [
    "We can see that the most sales transactions for this collection happen over the weekend days. What about hourly?"
   ]
  },
  {
   "cell_type": "code",
   "execution_count": 13,
   "metadata": {},
   "outputs": [],
   "source": [
    "hourcounts = coolcats_df_viz[\"hour\"].value_counts()"
   ]
  },
  {
   "cell_type": "code",
   "execution_count": 14,
   "metadata": {},
   "outputs": [
    {
     "data": {
      "text/plain": [
       "<AxesSubplot:ylabel='hour'>"
      ]
     },
     "execution_count": 14,
     "metadata": {},
     "output_type": "execute_result"
    },
    {
     "data": {
      "image/png": "[encoded data removed]",
      "text/plain": [
       "<Figure size 432x288 with 1 Axes>"
      ]
     },
     "metadata": {
      "needs_background": "light"
     },
     "output_type": "display_data"
    }
   ],
   "source": [
    "fig, ax = plt.subplots()\n",
    "\n",
    "x = hourcounts.index\n",
    "y = hourcounts\n",
    "sns.barplot(x=x, y=y)"
   ]
  },
  {
   "cell_type": "code",
   "execution_count": 15,
   "metadata": {},
   "outputs": [
    {
     "data": {
      "text/plain": [
       "17    822\n",
       "18    758\n",
       "15    605\n",
       "16    568\n",
       "4     550\n",
       "19    548\n",
       "22    534\n",
       "20    534\n",
       "2     511\n",
       "21    509\n",
       "1     465\n",
       "5     428\n",
       "3     421\n",
       "23    420\n",
       "0     406\n",
       "14    386\n",
       "6     317\n",
       "13    283\n",
       "7     249\n",
       "12    243\n",
       "8     213\n",
       "10    188\n",
       "11    185\n",
       "9     160\n",
       "Name: hour, dtype: int64"
      ]
     },
     "execution_count": 15,
     "metadata": {},
     "output_type": "execute_result"
    }
   ],
   "source": [
    "hourcounts.sort_values(ascending=False)"
   ]
  },
  {
   "cell_type": "markdown",
   "metadata": {},
   "source": [
    "There appears to be significantly higher sales volume during the later hours of the day, so considering the hour of the sale may be essential to our predictions."
   ]
  },
  {
   "cell_type": "code",
   "execution_count": 17,
   "metadata": {},
   "outputs": [],
   "source": [
    "coolcatshourly = coolcats_df_viz[\"id\"].resample('H').count()"
   ]
  },
  {
   "cell_type": "code",
   "execution_count": 18,
   "metadata": {},
   "outputs": [
    {
     "data": {
      "text/plain": [
       "created_date\n",
       "2021-07-20 04:00:00    21\n",
       "2021-07-20 05:00:00     7\n",
       "2021-07-20 06:00:00     3\n",
       "2021-07-20 07:00:00     2\n",
       "2021-07-20 08:00:00     3\n",
       "2021-07-20 09:00:00     2\n",
       "2021-07-20 10:00:00     3\n",
       "2021-07-20 11:00:00     3\n",
       "2021-07-20 12:00:00     2\n",
       "2021-07-20 13:00:00     3\n",
       "2021-07-20 14:00:00     0\n",
       "2021-07-20 15:00:00     3\n",
       "2021-07-20 16:00:00     2\n",
       "2021-07-20 17:00:00     4\n",
       "2021-07-20 18:00:00     6\n",
       "2021-07-20 19:00:00    10\n",
       "2021-07-20 20:00:00     4\n",
       "2021-07-20 21:00:00     5\n",
       "2021-07-20 22:00:00     3\n",
       "2021-07-20 23:00:00     6\n",
       "Freq: H, Name: id, dtype: int64"
      ]
     },
     "execution_count": 18,
     "metadata": {},
     "output_type": "execute_result"
    }
   ],
   "source": [
    "coolcatshourly [:20]"
   ]
  },
  {
   "cell_type": "code",
   "execution_count": 20,
   "metadata": {},
   "outputs": [
    {
     "data": {
      "text/plain": [
       "<AxesSubplot:xlabel='created_date'>"
      ]
     },
     "execution_count": 20,
     "metadata": {},
     "output_type": "execute_result"
    },
    {
     "data": {
      "image/png": "[encoded data removed]",
      "text/plain": [
       "<Figure size 432x288 with 1 Axes>"
      ]
     },
     "metadata": {
      "needs_background": "light"
     },
     "output_type": "display_data"
    }
   ],
   "source": [
    "coolcatshourly.plot()"
   ]
  },
  {
   "cell_type": "markdown",
   "metadata": {},
   "source": [
    "I want to see if this cyclical looking pattern in our data is synonymous with the movement of Ethereum closing prices per day. I downloaded historical data from Yahoo Finance for ETH prices for the same dates as my Cool Cats data."
   ]
  },
  {
   "cell_type": "code",
   "execution_count": 21,
   "metadata": {},
   "outputs": [],
   "source": [
    "yahoo_eth = pd.read_csv(\"ETH-USD.csv\")"
   ]
  },
  {
   "cell_type": "code",
   "execution_count": 22,
   "metadata": {},
   "outputs": [
    {
     "data": {
      "text/html": [
       "<div>\n",
       "<style scoped>\n",
       "    .dataframe tbody tr th:only-of-type {\n",
       "        vertical-align: middle;\n",
       "    }\n",
       "\n",
       "    .dataframe tbody tr th {\n",
       "        vertical-align: top;\n",
       "    }\n",
       "\n",
       "    .dataframe thead th {\n",
       "        text-align: right;\n",
       "    }\n",
       "</style>\n",
       "<table border=\"1\" class=\"dataframe\">\n",
       "  <thead>\n",
       "    <tr style=\"text-align: right;\">\n",
       "      <th></th>\n",
       "      <th>Date</th>\n",
       "      <th>Open</th>\n",
       "      <th>High</th>\n",
       "      <th>Low</th>\n",
       "      <th>Close</th>\n",
       "      <th>Adj Close</th>\n",
       "      <th>Volume</th>\n",
       "    </tr>\n",
       "  </thead>\n",
       "  <tbody>\n",
       "    <tr>\n",
       "      <th>0</th>\n",
       "      <td>2021-07-20</td>\n",
       "      <td>1819.082031</td>\n",
       "      <td>1836.998047</td>\n",
       "      <td>1722.050781</td>\n",
       "      <td>1787.510742</td>\n",
       "      <td>1787.510742</td>\n",
       "      <td>17368597636</td>\n",
       "    </tr>\n",
       "    <tr>\n",
       "      <th>1</th>\n",
       "      <td>2021-07-21</td>\n",
       "      <td>1786.276245</td>\n",
       "      <td>2025.680420</td>\n",
       "      <td>1759.023315</td>\n",
       "      <td>1990.970825</td>\n",
       "      <td>1990.970825</td>\n",
       "      <td>21253359756</td>\n",
       "    </tr>\n",
       "    <tr>\n",
       "      <th>2</th>\n",
       "      <td>2021-07-22</td>\n",
       "      <td>1994.822876</td>\n",
       "      <td>2044.116455</td>\n",
       "      <td>1954.297852</td>\n",
       "      <td>2025.202759</td>\n",
       "      <td>2025.202759</td>\n",
       "      <td>17495480331</td>\n",
       "    </tr>\n",
       "    <tr>\n",
       "      <th>3</th>\n",
       "      <td>2021-07-23</td>\n",
       "      <td>2025.105713</td>\n",
       "      <td>2129.441162</td>\n",
       "      <td>2000.436279</td>\n",
       "      <td>2124.776611</td>\n",
       "      <td>2124.776611</td>\n",
       "      <td>16200392492</td>\n",
       "    </tr>\n",
       "    <tr>\n",
       "      <th>4</th>\n",
       "      <td>2021-07-24</td>\n",
       "      <td>2123.961182</td>\n",
       "      <td>2197.649414</td>\n",
       "      <td>2107.323486</td>\n",
       "      <td>2189.218750</td>\n",
       "      <td>2189.218750</td>\n",
       "      <td>16057446601</td>\n",
       "    </tr>\n",
       "    <tr>\n",
       "      <th>...</th>\n",
       "      <td>...</td>\n",
       "      <td>...</td>\n",
       "      <td>...</td>\n",
       "      <td>...</td>\n",
       "      <td>...</td>\n",
       "      <td>...</td>\n",
       "      <td>...</td>\n",
       "    </tr>\n",
       "    <tr>\n",
       "      <th>60</th>\n",
       "      <td>2021-09-18</td>\n",
       "      <td>3397.422852</td>\n",
       "      <td>3540.807617</td>\n",
       "      <td>3371.892334</td>\n",
       "      <td>3432.018311</td>\n",
       "      <td>3432.018311</td>\n",
       "      <td>15995220233</td>\n",
       "    </tr>\n",
       "    <tr>\n",
       "      <th>61</th>\n",
       "      <td>2021-09-19</td>\n",
       "      <td>3433.287842</td>\n",
       "      <td>3448.322021</td>\n",
       "      <td>3286.172363</td>\n",
       "      <td>3329.447998</td>\n",
       "      <td>3329.447998</td>\n",
       "      <td>14257609743</td>\n",
       "    </tr>\n",
       "    <tr>\n",
       "      <th>62</th>\n",
       "      <td>2021-09-20</td>\n",
       "      <td>3329.670654</td>\n",
       "      <td>3343.325439</td>\n",
       "      <td>2940.839111</td>\n",
       "      <td>2958.993408</td>\n",
       "      <td>2958.993408</td>\n",
       "      <td>27371684581</td>\n",
       "    </tr>\n",
       "    <tr>\n",
       "      <th>63</th>\n",
       "      <td>2021-09-21</td>\n",
       "      <td>2977.310547</td>\n",
       "      <td>3101.697510</td>\n",
       "      <td>2676.407471</td>\n",
       "      <td>2764.431152</td>\n",
       "      <td>2764.431152</td>\n",
       "      <td>30405062665</td>\n",
       "    </tr>\n",
       "    <tr>\n",
       "      <th>64</th>\n",
       "      <td>2021-09-22</td>\n",
       "      <td>2763.209229</td>\n",
       "      <td>3089.083008</td>\n",
       "      <td>2741.440674</td>\n",
       "      <td>3077.867920</td>\n",
       "      <td>3077.867920</td>\n",
       "      <td>23742102645</td>\n",
       "    </tr>\n",
       "  </tbody>\n",
       "</table>\n",
       "<p>65 rows × 7 columns</p>\n",
       "</div>"
      ],
      "text/plain": [
       "          Date         Open         High          Low        Close  \\\n",
       "0   2021-07-20  1819.082031  1836.998047  1722.050781  1787.510742   \n",
       "1   2021-07-21  1786.276245  2025.680420  1759.023315  1990.970825   \n",
       "2   2021-07-22  1994.822876  2044.116455  1954.297852  2025.202759   \n",
       "3   2021-07-23  2025.105713  2129.441162  2000.436279  2124.776611   \n",
       "4   2021-07-24  2123.961182  2197.649414  2107.323486  2189.218750   \n",
       "..         ...          ...          ...          ...          ...   \n",
       "60  2021-09-18  3397.422852  3540.807617  3371.892334  3432.018311   \n",
       "61  2021-09-19  3433.287842  3448.322021  3286.172363  3329.447998   \n",
       "62  2021-09-20  3329.670654  3343.325439  2940.839111  2958.993408   \n",
       "63  2021-09-21  2977.310547  3101.697510  2676.407471  2764.431152   \n",
       "64  2021-09-22  2763.209229  3089.083008  2741.440674  3077.867920   \n",
       "\n",
       "      Adj Close       Volume  \n",
       "0   1787.510742  17368597636  \n",
       "1   1990.970825  21253359756  \n",
       "2   2025.202759  17495480331  \n",
       "3   2124.776611  16200392492  \n",
       "4   2189.218750  16057446601  \n",
       "..          ...          ...  \n",
       "60  3432.018311  15995220233  \n",
       "61  3329.447998  14257609743  \n",
       "62  2958.993408  27371684581  \n",
       "63  2764.431152  30405062665  \n",
       "64  3077.867920  23742102645  \n",
       "\n",
       "[65 rows x 7 columns]"
      ]
     },
     "execution_count": 22,
     "metadata": {},
     "output_type": "execute_result"
    }
   ],
   "source": [
    "yahoo_eth"
   ]
  },
  {
   "cell_type": "code",
   "execution_count": 23,
   "metadata": {},
   "outputs": [],
   "source": [
    "yahoo_eth[\"Date\"] = pd.to_datetime(yahoo_eth[\"Date\"])"
   ]
  },
  {
   "cell_type": "code",
   "execution_count": 24,
   "metadata": {},
   "outputs": [],
   "source": [
    "yahoo_eth.set_index(\"Date\", inplace=True)"
   ]
  },
  {
   "cell_type": "code",
   "execution_count": 25,
   "metadata": {},
   "outputs": [
    {
     "data": {
      "text/html": [
       "<div>\n",
       "<style scoped>\n",
       "    .dataframe tbody tr th:only-of-type {\n",
       "        vertical-align: middle;\n",
       "    }\n",
       "\n",
       "    .dataframe tbody tr th {\n",
       "        vertical-align: top;\n",
       "    }\n",
       "\n",
       "    .dataframe thead th {\n",
       "        text-align: right;\n",
       "    }\n",
       "</style>\n",
       "<table border=\"1\" class=\"dataframe\">\n",
       "  <thead>\n",
       "    <tr style=\"text-align: right;\">\n",
       "      <th></th>\n",
       "      <th>Open</th>\n",
       "      <th>High</th>\n",
       "      <th>Low</th>\n",
       "      <th>Close</th>\n",
       "      <th>Adj Close</th>\n",
       "      <th>Volume</th>\n",
       "    </tr>\n",
       "    <tr>\n",
       "      <th>Date</th>\n",
       "      <th></th>\n",
       "      <th></th>\n",
       "      <th></th>\n",
       "      <th></th>\n",
       "      <th></th>\n",
       "      <th></th>\n",
       "    </tr>\n",
       "  </thead>\n",
       "  <tbody>\n",
       "    <tr>\n",
       "      <th>2021-07-20</th>\n",
       "      <td>1819.082031</td>\n",
       "      <td>1836.998047</td>\n",
       "      <td>1722.050781</td>\n",
       "      <td>1787.510742</td>\n",
       "      <td>1787.510742</td>\n",
       "      <td>17368597636</td>\n",
       "    </tr>\n",
       "    <tr>\n",
       "      <th>2021-07-21</th>\n",
       "      <td>1786.276245</td>\n",
       "      <td>2025.680420</td>\n",
       "      <td>1759.023315</td>\n",
       "      <td>1990.970825</td>\n",
       "      <td>1990.970825</td>\n",
       "      <td>21253359756</td>\n",
       "    </tr>\n",
       "    <tr>\n",
       "      <th>2021-07-22</th>\n",
       "      <td>1994.822876</td>\n",
       "      <td>2044.116455</td>\n",
       "      <td>1954.297852</td>\n",
       "      <td>2025.202759</td>\n",
       "      <td>2025.202759</td>\n",
       "      <td>17495480331</td>\n",
       "    </tr>\n",
       "    <tr>\n",
       "      <th>2021-07-23</th>\n",
       "      <td>2025.105713</td>\n",
       "      <td>2129.441162</td>\n",
       "      <td>2000.436279</td>\n",
       "      <td>2124.776611</td>\n",
       "      <td>2124.776611</td>\n",
       "      <td>16200392492</td>\n",
       "    </tr>\n",
       "    <tr>\n",
       "      <th>2021-07-24</th>\n",
       "      <td>2123.961182</td>\n",
       "      <td>2197.649414</td>\n",
       "      <td>2107.323486</td>\n",
       "      <td>2189.218750</td>\n",
       "      <td>2189.218750</td>\n",
       "      <td>16057446601</td>\n",
       "    </tr>\n",
       "    <tr>\n",
       "      <th>...</th>\n",
       "      <td>...</td>\n",
       "      <td>...</td>\n",
       "      <td>...</td>\n",
       "      <td>...</td>\n",
       "      <td>...</td>\n",
       "      <td>...</td>\n",
       "    </tr>\n",
       "    <tr>\n",
       "      <th>2021-09-18</th>\n",
       "      <td>3397.422852</td>\n",
       "      <td>3540.807617</td>\n",
       "      <td>3371.892334</td>\n",
       "      <td>3432.018311</td>\n",
       "      <td>3432.018311</td>\n",
       "      <td>15995220233</td>\n",
       "    </tr>\n",
       "    <tr>\n",
       "      <th>2021-09-19</th>\n",
       "      <td>3433.287842</td>\n",
       "      <td>3448.322021</td>\n",
       "      <td>3286.172363</td>\n",
       "      <td>3329.447998</td>\n",
       "      <td>3329.447998</td>\n",
       "      <td>14257609743</td>\n",
       "    </tr>\n",
       "    <tr>\n",
       "      <th>2021-09-20</th>\n",
       "      <td>3329.670654</td>\n",
       "      <td>3343.325439</td>\n",
       "      <td>2940.839111</td>\n",
       "      <td>2958.993408</td>\n",
       "      <td>2958.993408</td>\n",
       "      <td>27371684581</td>\n",
       "    </tr>\n",
       "    <tr>\n",
       "      <th>2021-09-21</th>\n",
       "      <td>2977.310547</td>\n",
       "      <td>3101.697510</td>\n",
       "      <td>2676.407471</td>\n",
       "      <td>2764.431152</td>\n",
       "      <td>2764.431152</td>\n",
       "      <td>30405062665</td>\n",
       "    </tr>\n",
       "    <tr>\n",
       "      <th>2021-09-22</th>\n",
       "      <td>2763.209229</td>\n",
       "      <td>3089.083008</td>\n",
       "      <td>2741.440674</td>\n",
       "      <td>3077.867920</td>\n",
       "      <td>3077.867920</td>\n",
       "      <td>23742102645</td>\n",
       "    </tr>\n",
       "  </tbody>\n",
       "</table>\n",
       "<p>65 rows × 6 columns</p>\n",
       "</div>"
      ],
      "text/plain": [
       "                   Open         High          Low        Close    Adj Close  \\\n",
       "Date                                                                          \n",
       "2021-07-20  1819.082031  1836.998047  1722.050781  1787.510742  1787.510742   \n",
       "2021-07-21  1786.276245  2025.680420  1759.023315  1990.970825  1990.970825   \n",
       "2021-07-22  1994.822876  2044.116455  1954.297852  2025.202759  2025.202759   \n",
       "2021-07-23  2025.105713  2129.441162  2000.436279  2124.776611  2124.776611   \n",
       "2021-07-24  2123.961182  2197.649414  2107.323486  2189.218750  2189.218750   \n",
       "...                 ...          ...          ...          ...          ...   \n",
       "2021-09-18  3397.422852  3540.807617  3371.892334  3432.018311  3432.018311   \n",
       "2021-09-19  3433.287842  3448.322021  3286.172363  3329.447998  3329.447998   \n",
       "2021-09-20  3329.670654  3343.325439  2940.839111  2958.993408  2958.993408   \n",
       "2021-09-21  2977.310547  3101.697510  2676.407471  2764.431152  2764.431152   \n",
       "2021-09-22  2763.209229  3089.083008  2741.440674  3077.867920  3077.867920   \n",
       "\n",
       "                 Volume  \n",
       "Date                     \n",
       "2021-07-20  17368597636  \n",
       "2021-07-21  21253359756  \n",
       "2021-07-22  17495480331  \n",
       "2021-07-23  16200392492  \n",
       "2021-07-24  16057446601  \n",
       "...                 ...  \n",
       "2021-09-18  15995220233  \n",
       "2021-09-19  14257609743  \n",
       "2021-09-20  27371684581  \n",
       "2021-09-21  30405062665  \n",
       "2021-09-22  23742102645  \n",
       "\n",
       "[65 rows x 6 columns]"
      ]
     },
     "execution_count": 25,
     "metadata": {},
     "output_type": "execute_result"
    }
   ],
   "source": [
    "yahoo_eth"
   ]
  },
  {
   "cell_type": "code",
   "execution_count": 26,
   "metadata": {},
   "outputs": [
    {
     "data": {
      "text/plain": [
       "<AxesSubplot:xlabel='created_date'>"
      ]
     },
     "execution_count": 26,
     "metadata": {},
     "output_type": "execute_result"
    },
    {
     "data": {
      "image/png": "[encoded data removed]",
      "text/plain": [
       "<Figure size 432x288 with 1 Axes>"
      ]
     },
     "metadata": {
      "needs_background": "light"
     },
     "output_type": "display_data"
    }
   ],
   "source": [
    "coolcats_df[\"total_price_eth\"].plot()"
   ]
  },
  {
   "cell_type": "code",
   "execution_count": 27,
   "metadata": {},
   "outputs": [
    {
     "data": {
      "image/png": "[encoded data removed]",
      "text/plain": [
       "<Figure size 432x288 with 1 Axes>"
      ]
     },
     "metadata": {
      "needs_background": "light"
     },
     "output_type": "display_data"
    }
   ],
   "source": [
    "closingprice = yahoo_eth[\"Close\"].plot()"
   ]
  },
  {
   "cell_type": "code",
   "execution_count": 70,
   "metadata": {},
   "outputs": [],
   "source": [
    "coolcatsdaily = coolcats_df_viz.resample('D').mean()"
   ]
  },
  {
   "cell_type": "code",
   "execution_count": null,
   "metadata": {},
   "outputs": [],
   "source": [
    "yahoo_eth[\"Close\"].plot()"
   ]
  },
  {
   "cell_type": "code",
   "execution_count": 82,
   "metadata": {},
   "outputs": [
    {
     "ename": "TypeError",
     "evalue": "float() argument must be a string or a number, not 'AxesSubplot'",
     "output_type": "error",
     "traceback": [
      "\u001b[1;31m---------------------------------------------------------------------------\u001b[0m",
      "\u001b[1;31mTypeError\u001b[0m                                 Traceback (most recent call last)",
      "\u001b[1;32m<ipython-input-82-98e93ae2d888>\u001b[0m in \u001b[0;36m<module>\u001b[1;34m\u001b[0m\n\u001b[0;32m      1\u001b[0m \u001b[0mplt\u001b[0m\u001b[1;33m.\u001b[0m\u001b[0mplot\u001b[0m\u001b[1;33m(\u001b[0m\u001b[0myahoo_eth\u001b[0m\u001b[1;33m[\u001b[0m\u001b[1;34m\"Close\"\u001b[0m\u001b[1;33m]\u001b[0m\u001b[1;33m)\u001b[0m\u001b[1;33m\u001b[0m\u001b[1;33m\u001b[0m\u001b[0m\n\u001b[1;32m----> 2\u001b[1;33m \u001b[0mplt\u001b[0m\u001b[1;33m.\u001b[0m\u001b[0mplot\u001b[0m\u001b[1;33m(\u001b[0m\u001b[0mdailycc\u001b[0m\u001b[1;33m)\u001b[0m\u001b[1;33m\u001b[0m\u001b[1;33m\u001b[0m\u001b[0m\n\u001b[0m",
      "\u001b[1;32m~\\anaconda3\\lib\\site-packages\\matplotlib\\pyplot.py\u001b[0m in \u001b[0;36mplot\u001b[1;34m(scalex, scaley, data, *args, **kwargs)\u001b[0m\n\u001b[0;32m   2838\u001b[0m \u001b[1;33m@\u001b[0m\u001b[0m_copy_docstring_and_deprecators\u001b[0m\u001b[1;33m(\u001b[0m\u001b[0mAxes\u001b[0m\u001b[1;33m.\u001b[0m\u001b[0mplot\u001b[0m\u001b[1;33m)\u001b[0m\u001b[1;33m\u001b[0m\u001b[1;33m\u001b[0m\u001b[0m\n\u001b[0;32m   2839\u001b[0m \u001b[1;32mdef\u001b[0m \u001b[0mplot\u001b[0m\u001b[1;33m(\u001b[0m\u001b[1;33m*\u001b[0m\u001b[0margs\u001b[0m\u001b[1;33m,\u001b[0m \u001b[0mscalex\u001b[0m\u001b[1;33m=\u001b[0m\u001b[1;32mTrue\u001b[0m\u001b[1;33m,\u001b[0m \u001b[0mscaley\u001b[0m\u001b[1;33m=\u001b[0m\u001b[1;32mTrue\u001b[0m\u001b[1;33m,\u001b[0m \u001b[0mdata\u001b[0m\u001b[1;33m=\u001b[0m\u001b[1;32mNone\u001b[0m\u001b[1;33m,\u001b[0m \u001b[1;33m**\u001b[0m\u001b[0mkwargs\u001b[0m\u001b[1;33m)\u001b[0m\u001b[1;33m:\u001b[0m\u001b[1;33m\u001b[0m\u001b[1;33m\u001b[0m\u001b[0m\n\u001b[1;32m-> 2840\u001b[1;33m     return gca().plot(\n\u001b[0m\u001b[0;32m   2841\u001b[0m         \u001b[1;33m*\u001b[0m\u001b[0margs\u001b[0m\u001b[1;33m,\u001b[0m \u001b[0mscalex\u001b[0m\u001b[1;33m=\u001b[0m\u001b[0mscalex\u001b[0m\u001b[1;33m,\u001b[0m \u001b[0mscaley\u001b[0m\u001b[1;33m=\u001b[0m\u001b[0mscaley\u001b[0m\u001b[1;33m,\u001b[0m\u001b[1;33m\u001b[0m\u001b[1;33m\u001b[0m\u001b[0m\n\u001b[0;32m   2842\u001b[0m         **({\"data\": data} if data is not None else {}), **kwargs)\n",
      "\u001b[1;32m~\\anaconda3\\lib\\site-packages\\matplotlib\\axes\\_axes.py\u001b[0m in \u001b[0;36mplot\u001b[1;34m(self, scalex, scaley, data, *args, **kwargs)\u001b[0m\n\u001b[0;32m   1743\u001b[0m         \u001b[0mlines\u001b[0m \u001b[1;33m=\u001b[0m \u001b[1;33m[\u001b[0m\u001b[1;33m*\u001b[0m\u001b[0mself\u001b[0m\u001b[1;33m.\u001b[0m\u001b[0m_get_lines\u001b[0m\u001b[1;33m(\u001b[0m\u001b[1;33m*\u001b[0m\u001b[0margs\u001b[0m\u001b[1;33m,\u001b[0m \u001b[0mdata\u001b[0m\u001b[1;33m=\u001b[0m\u001b[0mdata\u001b[0m\u001b[1;33m,\u001b[0m \u001b[1;33m**\u001b[0m\u001b[0mkwargs\u001b[0m\u001b[1;33m)\u001b[0m\u001b[1;33m]\u001b[0m\u001b[1;33m\u001b[0m\u001b[1;33m\u001b[0m\u001b[0m\n\u001b[0;32m   1744\u001b[0m         \u001b[1;32mfor\u001b[0m \u001b[0mline\u001b[0m \u001b[1;32min\u001b[0m \u001b[0mlines\u001b[0m\u001b[1;33m:\u001b[0m\u001b[1;33m\u001b[0m\u001b[1;33m\u001b[0m\u001b[0m\n\u001b[1;32m-> 1745\u001b[1;33m             \u001b[0mself\u001b[0m\u001b[1;33m.\u001b[0m\u001b[0madd_line\u001b[0m\u001b[1;33m(\u001b[0m\u001b[0mline\u001b[0m\u001b[1;33m)\u001b[0m\u001b[1;33m\u001b[0m\u001b[1;33m\u001b[0m\u001b[0m\n\u001b[0m\u001b[0;32m   1746\u001b[0m         \u001b[0mself\u001b[0m\u001b[1;33m.\u001b[0m\u001b[0m_request_autoscale_view\u001b[0m\u001b[1;33m(\u001b[0m\u001b[0mscalex\u001b[0m\u001b[1;33m=\u001b[0m\u001b[0mscalex\u001b[0m\u001b[1;33m,\u001b[0m \u001b[0mscaley\u001b[0m\u001b[1;33m=\u001b[0m\u001b[0mscaley\u001b[0m\u001b[1;33m)\u001b[0m\u001b[1;33m\u001b[0m\u001b[1;33m\u001b[0m\u001b[0m\n\u001b[0;32m   1747\u001b[0m         \u001b[1;32mreturn\u001b[0m \u001b[0mlines\u001b[0m\u001b[1;33m\u001b[0m\u001b[1;33m\u001b[0m\u001b[0m\n",
      "\u001b[1;32m~\\anaconda3\\lib\\site-packages\\matplotlib\\axes\\_base.py\u001b[0m in \u001b[0;36madd_line\u001b[1;34m(self, line)\u001b[0m\n\u001b[0;32m   1962\u001b[0m             \u001b[0mline\u001b[0m\u001b[1;33m.\u001b[0m\u001b[0mset_clip_path\u001b[0m\u001b[1;33m(\u001b[0m\u001b[0mself\u001b[0m\u001b[1;33m.\u001b[0m\u001b[0mpatch\u001b[0m\u001b[1;33m)\u001b[0m\u001b[1;33m\u001b[0m\u001b[1;33m\u001b[0m\u001b[0m\n\u001b[0;32m   1963\u001b[0m \u001b[1;33m\u001b[0m\u001b[0m\n\u001b[1;32m-> 1964\u001b[1;33m         \u001b[0mself\u001b[0m\u001b[1;33m.\u001b[0m\u001b[0m_update_line_limits\u001b[0m\u001b[1;33m(\u001b[0m\u001b[0mline\u001b[0m\u001b[1;33m)\u001b[0m\u001b[1;33m\u001b[0m\u001b[1;33m\u001b[0m\u001b[0m\n\u001b[0m\u001b[0;32m   1965\u001b[0m         \u001b[1;32mif\u001b[0m \u001b[1;32mnot\u001b[0m \u001b[0mline\u001b[0m\u001b[1;33m.\u001b[0m\u001b[0mget_label\u001b[0m\u001b[1;33m(\u001b[0m\u001b[1;33m)\u001b[0m\u001b[1;33m:\u001b[0m\u001b[1;33m\u001b[0m\u001b[1;33m\u001b[0m\u001b[0m\n\u001b[0;32m   1966\u001b[0m             \u001b[0mline\u001b[0m\u001b[1;33m.\u001b[0m\u001b[0mset_label\u001b[0m\u001b[1;33m(\u001b[0m\u001b[1;34m'_line%d'\u001b[0m \u001b[1;33m%\u001b[0m \u001b[0mlen\u001b[0m\u001b[1;33m(\u001b[0m\u001b[0mself\u001b[0m\u001b[1;33m.\u001b[0m\u001b[0mlines\u001b[0m\u001b[1;33m)\u001b[0m\u001b[1;33m)\u001b[0m\u001b[1;33m\u001b[0m\u001b[1;33m\u001b[0m\u001b[0m\n",
      "\u001b[1;32m~\\anaconda3\\lib\\site-packages\\matplotlib\\axes\\_base.py\u001b[0m in \u001b[0;36m_update_line_limits\u001b[1;34m(self, line)\u001b[0m\n\u001b[0;32m   1984\u001b[0m         \u001b[0mFigures\u001b[0m \u001b[0mout\u001b[0m \u001b[0mthe\u001b[0m \u001b[0mdata\u001b[0m \u001b[0mlimit\u001b[0m \u001b[0mof\u001b[0m \u001b[0mthe\u001b[0m \u001b[0mgiven\u001b[0m \u001b[0mline\u001b[0m\u001b[1;33m,\u001b[0m \u001b[0mupdating\u001b[0m \u001b[0mself\u001b[0m\u001b[1;33m.\u001b[0m\u001b[0mdataLim\u001b[0m\u001b[1;33m.\u001b[0m\u001b[1;33m\u001b[0m\u001b[1;33m\u001b[0m\u001b[0m\n\u001b[0;32m   1985\u001b[0m         \"\"\"\n\u001b[1;32m-> 1986\u001b[1;33m         \u001b[0mpath\u001b[0m \u001b[1;33m=\u001b[0m \u001b[0mline\u001b[0m\u001b[1;33m.\u001b[0m\u001b[0mget_path\u001b[0m\u001b[1;33m(\u001b[0m\u001b[1;33m)\u001b[0m\u001b[1;33m\u001b[0m\u001b[1;33m\u001b[0m\u001b[0m\n\u001b[0m\u001b[0;32m   1987\u001b[0m         \u001b[1;32mif\u001b[0m \u001b[0mpath\u001b[0m\u001b[1;33m.\u001b[0m\u001b[0mvertices\u001b[0m\u001b[1;33m.\u001b[0m\u001b[0msize\u001b[0m \u001b[1;33m==\u001b[0m \u001b[1;36m0\u001b[0m\u001b[1;33m:\u001b[0m\u001b[1;33m\u001b[0m\u001b[1;33m\u001b[0m\u001b[0m\n\u001b[0;32m   1988\u001b[0m             \u001b[1;32mreturn\u001b[0m\u001b[1;33m\u001b[0m\u001b[1;33m\u001b[0m\u001b[0m\n",
      "\u001b[1;32m~\\anaconda3\\lib\\site-packages\\matplotlib\\lines.py\u001b[0m in \u001b[0;36mget_path\u001b[1;34m(self)\u001b[0m\n\u001b[0;32m   1009\u001b[0m         \"\"\"\n\u001b[0;32m   1010\u001b[0m         \u001b[1;32mif\u001b[0m \u001b[0mself\u001b[0m\u001b[1;33m.\u001b[0m\u001b[0m_invalidy\u001b[0m \u001b[1;32mor\u001b[0m \u001b[0mself\u001b[0m\u001b[1;33m.\u001b[0m\u001b[0m_invalidx\u001b[0m\u001b[1;33m:\u001b[0m\u001b[1;33m\u001b[0m\u001b[1;33m\u001b[0m\u001b[0m\n\u001b[1;32m-> 1011\u001b[1;33m             \u001b[0mself\u001b[0m\u001b[1;33m.\u001b[0m\u001b[0mrecache\u001b[0m\u001b[1;33m(\u001b[0m\u001b[1;33m)\u001b[0m\u001b[1;33m\u001b[0m\u001b[1;33m\u001b[0m\u001b[0m\n\u001b[0m\u001b[0;32m   1012\u001b[0m         \u001b[1;32mreturn\u001b[0m \u001b[0mself\u001b[0m\u001b[1;33m.\u001b[0m\u001b[0m_path\u001b[0m\u001b[1;33m\u001b[0m\u001b[1;33m\u001b[0m\u001b[0m\n\u001b[0;32m   1013\u001b[0m \u001b[1;33m\u001b[0m\u001b[0m\n",
      "\u001b[1;32m~\\anaconda3\\lib\\site-packages\\matplotlib\\lines.py\u001b[0m in \u001b[0;36mrecache\u001b[1;34m(self, always)\u001b[0m\n\u001b[0;32m    656\u001b[0m         \u001b[1;32mif\u001b[0m \u001b[0malways\u001b[0m \u001b[1;32mor\u001b[0m \u001b[0mself\u001b[0m\u001b[1;33m.\u001b[0m\u001b[0m_invalidy\u001b[0m\u001b[1;33m:\u001b[0m\u001b[1;33m\u001b[0m\u001b[1;33m\u001b[0m\u001b[0m\n\u001b[0;32m    657\u001b[0m             \u001b[0myconv\u001b[0m \u001b[1;33m=\u001b[0m \u001b[0mself\u001b[0m\u001b[1;33m.\u001b[0m\u001b[0mconvert_yunits\u001b[0m\u001b[1;33m(\u001b[0m\u001b[0mself\u001b[0m\u001b[1;33m.\u001b[0m\u001b[0m_yorig\u001b[0m\u001b[1;33m)\u001b[0m\u001b[1;33m\u001b[0m\u001b[1;33m\u001b[0m\u001b[0m\n\u001b[1;32m--> 658\u001b[1;33m             \u001b[0my\u001b[0m \u001b[1;33m=\u001b[0m \u001b[0m_to_unmasked_float_array\u001b[0m\u001b[1;33m(\u001b[0m\u001b[0myconv\u001b[0m\u001b[1;33m)\u001b[0m\u001b[1;33m.\u001b[0m\u001b[0mravel\u001b[0m\u001b[1;33m(\u001b[0m\u001b[1;33m)\u001b[0m\u001b[1;33m\u001b[0m\u001b[1;33m\u001b[0m\u001b[0m\n\u001b[0m\u001b[0;32m    659\u001b[0m         \u001b[1;32melse\u001b[0m\u001b[1;33m:\u001b[0m\u001b[1;33m\u001b[0m\u001b[1;33m\u001b[0m\u001b[0m\n\u001b[0;32m    660\u001b[0m             \u001b[0my\u001b[0m \u001b[1;33m=\u001b[0m \u001b[0mself\u001b[0m\u001b[1;33m.\u001b[0m\u001b[0m_y\u001b[0m\u001b[1;33m\u001b[0m\u001b[1;33m\u001b[0m\u001b[0m\n",
      "\u001b[1;32m~\\anaconda3\\lib\\site-packages\\matplotlib\\cbook\\__init__.py\u001b[0m in \u001b[0;36m_to_unmasked_float_array\u001b[1;34m(x)\u001b[0m\n\u001b[0;32m   1287\u001b[0m         \u001b[1;32mreturn\u001b[0m \u001b[0mnp\u001b[0m\u001b[1;33m.\u001b[0m\u001b[0mma\u001b[0m\u001b[1;33m.\u001b[0m\u001b[0masarray\u001b[0m\u001b[1;33m(\u001b[0m\u001b[0mx\u001b[0m\u001b[1;33m,\u001b[0m \u001b[0mfloat\u001b[0m\u001b[1;33m)\u001b[0m\u001b[1;33m.\u001b[0m\u001b[0mfilled\u001b[0m\u001b[1;33m(\u001b[0m\u001b[0mnp\u001b[0m\u001b[1;33m.\u001b[0m\u001b[0mnan\u001b[0m\u001b[1;33m)\u001b[0m\u001b[1;33m\u001b[0m\u001b[1;33m\u001b[0m\u001b[0m\n\u001b[0;32m   1288\u001b[0m     \u001b[1;32melse\u001b[0m\u001b[1;33m:\u001b[0m\u001b[1;33m\u001b[0m\u001b[1;33m\u001b[0m\u001b[0m\n\u001b[1;32m-> 1289\u001b[1;33m         \u001b[1;32mreturn\u001b[0m \u001b[0mnp\u001b[0m\u001b[1;33m.\u001b[0m\u001b[0masarray\u001b[0m\u001b[1;33m(\u001b[0m\u001b[0mx\u001b[0m\u001b[1;33m,\u001b[0m \u001b[0mfloat\u001b[0m\u001b[1;33m)\u001b[0m\u001b[1;33m\u001b[0m\u001b[1;33m\u001b[0m\u001b[0m\n\u001b[0m\u001b[0;32m   1290\u001b[0m \u001b[1;33m\u001b[0m\u001b[0m\n\u001b[0;32m   1291\u001b[0m \u001b[1;33m\u001b[0m\u001b[0m\n",
      "\u001b[1;32m~\\anaconda3\\lib\\site-packages\\numpy\\core\\_asarray.py\u001b[0m in \u001b[0;36masarray\u001b[1;34m(a, dtype, order, like)\u001b[0m\n\u001b[0;32m    100\u001b[0m         \u001b[1;32mreturn\u001b[0m \u001b[0m_asarray_with_like\u001b[0m\u001b[1;33m(\u001b[0m\u001b[0ma\u001b[0m\u001b[1;33m,\u001b[0m \u001b[0mdtype\u001b[0m\u001b[1;33m=\u001b[0m\u001b[0mdtype\u001b[0m\u001b[1;33m,\u001b[0m \u001b[0morder\u001b[0m\u001b[1;33m=\u001b[0m\u001b[0morder\u001b[0m\u001b[1;33m,\u001b[0m \u001b[0mlike\u001b[0m\u001b[1;33m=\u001b[0m\u001b[0mlike\u001b[0m\u001b[1;33m)\u001b[0m\u001b[1;33m\u001b[0m\u001b[1;33m\u001b[0m\u001b[0m\n\u001b[0;32m    101\u001b[0m \u001b[1;33m\u001b[0m\u001b[0m\n\u001b[1;32m--> 102\u001b[1;33m     \u001b[1;32mreturn\u001b[0m \u001b[0marray\u001b[0m\u001b[1;33m(\u001b[0m\u001b[0ma\u001b[0m\u001b[1;33m,\u001b[0m \u001b[0mdtype\u001b[0m\u001b[1;33m,\u001b[0m \u001b[0mcopy\u001b[0m\u001b[1;33m=\u001b[0m\u001b[1;32mFalse\u001b[0m\u001b[1;33m,\u001b[0m \u001b[0morder\u001b[0m\u001b[1;33m=\u001b[0m\u001b[0morder\u001b[0m\u001b[1;33m)\u001b[0m\u001b[1;33m\u001b[0m\u001b[1;33m\u001b[0m\u001b[0m\n\u001b[0m\u001b[0;32m    103\u001b[0m \u001b[1;33m\u001b[0m\u001b[0m\n\u001b[0;32m    104\u001b[0m \u001b[1;33m\u001b[0m\u001b[0m\n",
      "\u001b[1;31mTypeError\u001b[0m: float() argument must be a string or a number, not 'AxesSubplot'"
     ]
    },
    {
     "data": {
      "image/png": "[encoded data removed]",
      "text/plain": [
       "<Figure size 432x288 with 1 Axes>"
      ]
     },
     "metadata": {
      "needs_background": "light"
     },
     "output_type": "display_data"
    }
   ],
   "source": [
    "# FIGURE OUT HOW TO MAKE THIS WORK...\n",
    "plt.plot(yahoo_eth[\"Close\"])\n",
    "plt.plot(dailycc)"
   ]
  },
  {
   "cell_type": "markdown",
   "metadata": {},
   "source": [
    "Need to begin removing the trend and build model on stationarized data"
   ]
  },
  {
   "cell_type": "code",
   "execution_count": 29,
   "metadata": {},
   "outputs": [],
   "source": [
    "cc_ts = coolcats_df[\"total_price_eth\"]"
   ]
  },
  {
   "cell_type": "code",
   "execution_count": 30,
   "metadata": {},
   "outputs": [
    {
     "data": {
      "text/plain": [
       "<AxesSubplot:xlabel='created_date'>"
      ]
     },
     "execution_count": 30,
     "metadata": {},
     "output_type": "execute_result"
    },
    {
     "data": {
      "image/png": "[encoded data removed]",
      "text/plain": [
       "<Figure size 432x288 with 1 Axes>"
      ]
     },
     "metadata": {
      "needs_background": "light"
     },
     "output_type": "display_data"
    }
   ],
   "source": [
    "cc_ts.plot()"
   ]
  },
  {
   "cell_type": "code",
   "execution_count": 31,
   "metadata": {},
   "outputs": [],
   "source": [
    "stattest = adfuller(cc_ts)"
   ]
  },
  {
   "cell_type": "code",
   "execution_count": 32,
   "metadata": {},
   "outputs": [
    {
     "data": {
      "text/plain": [
       "(-3.254153578333129,\n",
       " 0.017056393420587807,\n",
       " 39,\n",
       " 10263,\n",
       " {'1%': -3.430987331807296,\n",
       "  '5%': -2.861821663541857,\n",
       "  '10%': -2.5669199243595098},\n",
       " 60717.743054514416)"
      ]
     },
     "metadata": {},
     "output_type": "display_data"
    }
   ],
   "source": [
    "display(stattest)"
   ]
  },
  {
   "cell_type": "markdown",
   "metadata": {},
   "source": [
    "The p value is pretty low at .01, where the significance level standard typically is .05."
   ]
  },
  {
   "cell_type": "markdown",
   "metadata": {},
   "source": [
    "### possibly use this code later to level up stationarity but not at this moment because our data is already pretty stationary "
   ]
  },
  {
   "cell_type": "code",
   "execution_count": 44,
   "metadata": {},
   "outputs": [],
   "source": [
    "diff_cc = cc_ts.diff().dropna()"
   ]
  },
  {
   "cell_type": "code",
   "execution_count": 45,
   "metadata": {},
   "outputs": [
    {
     "data": {
      "text/plain": [
       "(-26.936637967258648,\n",
       " 0.0,\n",
       " 39,\n",
       " 10262,\n",
       " {'1%': -3.4309873939288447,\n",
       "  '5%': -2.8618216909930183,\n",
       "  '10%': -2.5669199389717714},\n",
       " 60720.44311788704)"
      ]
     },
     "execution_count": 45,
     "metadata": {},
     "output_type": "execute_result"
    }
   ],
   "source": [
    "adfuller(diff_cc)\n"
   ]
  },
  {
   "cell_type": "markdown",
   "metadata": {},
   "source": [
    "This is completely stationary at this point but I need to ask instructors if i NEED to downsample?? I am going to try modeling on the hourly downsampled for now."
   ]
  },
  {
   "cell_type": "code",
   "execution_count": 46,
   "metadata": {
    "scrolled": true
   },
   "outputs": [
    {
     "data": {
      "text/plain": [
       "<AxesSubplot:xlabel='created_date'>"
      ]
     },
     "execution_count": 46,
     "metadata": {},
     "output_type": "execute_result"
    },
    {
     "data": {
      "image/png": "[encoded data removed]",
      "text/plain": [
       "<Figure size 432x288 with 1 Axes>"
      ]
     },
     "metadata": {
      "needs_background": "light"
     },
     "output_type": "display_data"
    }
   ],
   "source": [
    "diff_cc.plot()"
   ]
  },
  {
   "cell_type": "markdown",
   "metadata": {},
   "source": [
    "### end temp code"
   ]
  },
  {
   "cell_type": "markdown",
   "metadata": {},
   "source": [
    "### begin modeling process"
   ]
  },
  {
   "cell_type": "code",
   "execution_count": 33,
   "metadata": {},
   "outputs": [],
   "source": [
    "from sklearn.metrics import mean_squared_error\n",
    "from sklearn.linear_model import LinearRegression\n",
    "from sklearn.model_selection import TimeSeriesSplit\n",
    "import itertools\n",
    "from statsmodels.tsa.arima.model import ARIMA\n",
    "from statsmodels.tsa.stattools import acf, pacf\n",
    "from statsmodels.graphics.tsaplots import plot_acf, plot_pacf\n",
    "from statsmodels.tsa.statespace.sarimax import SARIMAX"
   ]
  },
  {
   "cell_type": "code",
   "execution_count": 34,
   "metadata": {},
   "outputs": [],
   "source": [
    "cc_hourly = coolcats_df_viz[\"total_price_eth\"].resample('H').mean()"
   ]
  },
  {
   "cell_type": "code",
   "execution_count": 37,
   "metadata": {},
   "outputs": [],
   "source": [
    "cc_hourly.dropna(inplace=True)"
   ]
  },
  {
   "cell_type": "code",
   "execution_count": 38,
   "metadata": {},
   "outputs": [
    {
     "data": {
      "text/plain": [
       "<AxesSubplot:xlabel='created_date'>"
      ]
     },
     "execution_count": 38,
     "metadata": {},
     "output_type": "execute_result"
    },
    {
     "data": {
      "image/png": "[encoded data removed]",
      "text/plain": [
       "<Figure size 432x288 with 1 Axes>"
      ]
     },
     "metadata": {
      "needs_background": "light"
     },
     "output_type": "display_data"
    }
   ],
   "source": [
    "cc_hourly.plot()"
   ]
  },
  {
   "cell_type": "code",
   "execution_count": 39,
   "metadata": {},
   "outputs": [
    {
     "data": {
      "text/plain": [
       "(-1.5854691040260933,\n",
       " 0.49088863906493346,\n",
       " 22,\n",
       " 1846,\n",
       " {'1%': -3.4338973545418083,\n",
       "  '5%': -2.8631069584819104,\n",
       "  '10%': -2.5676041937532355},\n",
       " 9316.355578597351)"
      ]
     },
     "execution_count": 39,
     "metadata": {},
     "output_type": "execute_result"
    }
   ],
   "source": [
    "adfuller(cc_hourly)"
   ]
  },
  {
   "cell_type": "code",
   "execution_count": 40,
   "metadata": {},
   "outputs": [],
   "source": [
    "diff_cc_hourly = cc_hourly.diff().dropna()"
   ]
  },
  {
   "cell_type": "code",
   "execution_count": 41,
   "metadata": {},
   "outputs": [
    {
     "data": {
      "text/plain": [
       "<AxesSubplot:xlabel='created_date'>"
      ]
     },
     "execution_count": 41,
     "metadata": {},
     "output_type": "execute_result"
    },
    {
     "data": {
      "image/png": "[encoded data removed]",
      "text/plain": [
       "<Figure size 432x288 with 1 Axes>"
      ]
     },
     "metadata": {
      "needs_background": "light"
     },
     "output_type": "display_data"
    }
   ],
   "source": [
    "diff_cc_hourly.plot()"
   ]
  },
  {
   "cell_type": "code",
   "execution_count": 42,
   "metadata": {},
   "outputs": [
    {
     "data": {
      "text/plain": [
       "(-10.758234193843359,\n",
       " 2.5601979500943136e-19,\n",
       " 25,\n",
       " 1842,\n",
       " {'1%': -3.4339050685840564,\n",
       "  '5%': -2.8631103639464617,\n",
       "  '10%': -2.56760600704281},\n",
       " 9311.673118534185)"
      ]
     },
     "execution_count": 42,
     "metadata": {},
     "output_type": "execute_result"
    }
   ],
   "source": [
    "adfuller(diff_cc_hourly)"
   ]
  },
  {
   "cell_type": "code",
   "execution_count": 43,
   "metadata": {},
   "outputs": [
    {
     "data": {
      "text/plain": [
       "1868"
      ]
     },
     "execution_count": 43,
     "metadata": {},
     "output_type": "execute_result"
    }
   ],
   "source": [
    "len(diff_cc_hourly)"
   ]
  },
  {
   "cell_type": "code",
   "execution_count": 47,
   "metadata": {},
   "outputs": [],
   "source": [
    "### create a baseline"
   ]
  },
  {
   "cell_type": "code",
   "execution_count": null,
   "metadata": {},
   "outputs": [],
   "source": [
    "diff_cc_hourly"
   ]
  },
  {
   "cell_type": "code",
   "execution_count": 69,
   "metadata": {},
   "outputs": [
    {
     "data": {
      "text/plain": [
       "1494"
      ]
     },
     "execution_count": 69,
     "metadata": {},
     "output_type": "execute_result"
    }
   ],
   "source": [
    "# find the index which allows us to split off 20% of the data\n",
    "cutoff = round(diff_cc_hourly.shape[0]*0.8)\n",
    "cutoff"
   ]
  },
  {
   "cell_type": "code",
   "execution_count": 70,
   "metadata": {},
   "outputs": [],
   "source": [
    "train = diff_cc_hourly[:cutoff]\n",
    "\n",
    "test = diff_cc_hourly[cutoff:]"
   ]
  },
  {
   "cell_type": "code",
   "execution_count": 71,
   "metadata": {},
   "outputs": [
    {
     "data": {
      "image/png": "[encoded data removed]",
      "text/plain": [
       "<Figure size 864x576 with 1 Axes>"
      ]
     },
     "metadata": {
      "needs_background": "light"
     },
     "output_type": "display_data"
    }
   ],
   "source": [
    "fig, ax = plt.subplots(figsize=(12, 8))\n",
    "ax.plot(train, label='train')\n",
    "ax.plot(test, label='test')\n",
    "ax.set_title('Train-Test Split');\n",
    "plt.legend();"
   ]
  },
  {
   "cell_type": "code",
   "execution_count": 72,
   "metadata": {},
   "outputs": [
    {
     "data": {
      "text/plain": [
       "created_date\n",
       "2021-07-20 05:00:00     0.077333\n",
       "2021-07-20 06:00:00     0.017714\n",
       "2021-07-20 07:00:00    -0.205000\n",
       "2021-07-20 08:00:00     0.088333\n",
       "2021-07-20 09:00:00    -0.218333\n",
       "                         ...    \n",
       "2021-09-26 23:00:00    -0.811072\n",
       "2021-09-27 00:00:00    10.625001\n",
       "2021-09-27 01:00:00   -11.200334\n",
       "2021-09-27 02:00:00     0.808667\n",
       "2021-09-27 03:00:00    -0.090774\n",
       "Name: total_price_eth, Length: 1494, dtype: float64"
      ]
     },
     "execution_count": 72,
     "metadata": {},
     "output_type": "execute_result"
    }
   ],
   "source": [
    "train"
   ]
  },
  {
   "cell_type": "markdown",
   "metadata": {},
   "source": [
    "The ARIMA model will turn these back into relevant price predictions when we specify the \"levels\" type (since differencing impacted the numbers). "
   ]
  },
  {
   "cell_type": "code",
   "execution_count": 73,
   "metadata": {},
   "outputs": [
    {
     "data": {
      "text/plain": [
       "(-10.758234193843359,\n",
       " 2.5601979500943136e-19,\n",
       " 25,\n",
       " 1842,\n",
       " {'1%': -3.4339050685840564,\n",
       "  '5%': -2.8631103639464617,\n",
       "  '10%': -2.56760600704281},\n",
       " 9311.673118534185)"
      ]
     },
     "execution_count": 73,
     "metadata": {},
     "output_type": "execute_result"
    }
   ],
   "source": [
    "adfuller(diff_cc_hourly)"
   ]
  },
  {
   "cell_type": "markdown",
   "metadata": {},
   "source": [
    "Begin Baseline"
   ]
  },
  {
   "cell_type": "code",
   "execution_count": 74,
   "metadata": {},
   "outputs": [],
   "source": [
    "naivebaseline = train.shift(1)"
   ]
  },
  {
   "cell_type": "code",
   "execution_count": 75,
   "metadata": {},
   "outputs": [
    {
     "data": {
      "text/plain": [
       "created_date\n",
       "2021-07-20 05:00:00          NaN\n",
       "2021-07-20 06:00:00     0.077333\n",
       "2021-07-20 07:00:00     0.017714\n",
       "2021-07-20 08:00:00    -0.205000\n",
       "2021-07-20 09:00:00     0.088333\n",
       "                         ...    \n",
       "2021-09-26 23:00:00    -2.808452\n",
       "2021-09-27 00:00:00    -0.811072\n",
       "2021-09-27 01:00:00    10.625001\n",
       "2021-09-27 02:00:00   -11.200334\n",
       "2021-09-27 03:00:00     0.808667\n",
       "Name: total_price_eth, Length: 1494, dtype: float64"
      ]
     },
     "execution_count": 75,
     "metadata": {},
     "output_type": "execute_result"
    }
   ],
   "source": [
    "naivebaseline"
   ]
  },
  {
   "cell_type": "code",
   "execution_count": 76,
   "metadata": {},
   "outputs": [
    {
     "data": {
      "image/png": "[encoded data removed]",
      "text/plain": [
       "<Figure size 432x288 with 1 Axes>"
      ]
     },
     "metadata": {
      "needs_background": "light"
     },
     "output_type": "display_data"
    }
   ],
   "source": [
    "fig, ax = plt.subplots()\n",
    "\n",
    "train[0:30].plot(ax=ax, c='r', label='original')\n",
    "naivebaseline[0:30].plot(ax=ax, c='b', label='shifted')\n",
    "ax.set_title('naive')\n",
    "ax.legend();"
   ]
  },
  {
   "cell_type": "markdown",
   "metadata": {},
   "source": [
    "Baseline RMSE :"
   ]
  },
  {
   "cell_type": "code",
   "execution_count": 77,
   "metadata": {},
   "outputs": [
    {
     "data": {
      "text/plain": [
       "3.6990576307400325"
      ]
     },
     "execution_count": 77,
     "metadata": {},
     "output_type": "execute_result"
    }
   ],
   "source": [
    "np.sqrt(mean_squared_error(train[1:], naivebaseline.dropna()))"
   ]
  },
  {
   "cell_type": "code",
   "execution_count": 78,
   "metadata": {},
   "outputs": [
    {
     "name": "stderr",
     "output_type": "stream",
     "text": [
      "C:\\Users\\saman\\anaconda3\\envs\\learn-env\\lib\\site-packages\\statsmodels\\tsa\\base\\tsa_model.py:581: ValueWarning: A date index has been provided, but it has no associated frequency information and so will be ignored when e.g. forecasting.\n",
      "  warnings.warn('A date index has been provided, but it has no'\n",
      "C:\\Users\\saman\\anaconda3\\envs\\learn-env\\lib\\site-packages\\statsmodels\\tsa\\base\\tsa_model.py:581: ValueWarning: A date index has been provided, but it has no associated frequency information and so will be ignored when e.g. forecasting.\n",
      "  warnings.warn('A date index has been provided, but it has no'\n",
      "C:\\Users\\saman\\anaconda3\\envs\\learn-env\\lib\\site-packages\\statsmodels\\tsa\\base\\tsa_model.py:581: ValueWarning: A date index has been provided, but it has no associated frequency information and so will be ignored when e.g. forecasting.\n",
      "  warnings.warn('A date index has been provided, but it has no'\n"
     ]
    },
    {
     "data": {
      "text/plain": [
       "created_date\n",
       "2021-07-20 05:00:00    0.000000\n",
       "2021-07-20 06:00:00    0.077333\n",
       "2021-07-20 07:00:00    0.057300\n",
       "2021-07-20 08:00:00   -0.057121\n",
       "2021-07-20 09:00:00   -0.106435\n",
       "                         ...   \n",
       "2021-09-26 23:00:00    0.412366\n",
       "2021-09-27 00:00:00   -2.137299\n",
       "2021-09-27 01:00:00    3.031641\n",
       "2021-09-27 02:00:00    3.291320\n",
       "2021-09-27 03:00:00   -7.165107\n",
       "Name: predicted_mean, Length: 1494, dtype: float64"
      ]
     },
     "execution_count": 78,
     "metadata": {},
     "output_type": "execute_result"
    }
   ],
   "source": [
    "ar_1 = ARIMA(train, order=(1, 1, 0)).fit()\n",
    "\n",
    "# We put a typ='levels' to convert our predictions to remove the differencing performed.\n",
    "ar_1.predict(typ='levels')"
   ]
  },
  {
   "cell_type": "code",
   "execution_count": 79,
   "metadata": {},
   "outputs": [
    {
     "data": {
      "text/html": [
       "<table class=\"simpletable\">\n",
       "<caption>SARIMAX Results</caption>\n",
       "<tr>\n",
       "  <th>Dep. Variable:</th>    <td>total_price_eth</td> <th>  No. Observations:  </th>   <td>1494</td>   \n",
       "</tr>\n",
       "<tr>\n",
       "  <th>Model:</th>            <td>ARIMA(1, 1, 0)</td>  <th>  Log Likelihood     </th> <td>-3636.955</td>\n",
       "</tr>\n",
       "<tr>\n",
       "  <th>Date:</th>            <td>Sun, 28 Nov 2021</td> <th>  AIC                </th> <td>7277.910</td> \n",
       "</tr>\n",
       "<tr>\n",
       "  <th>Time:</th>                <td>16:54:18</td>     <th>  BIC                </th> <td>7288.527</td> \n",
       "</tr>\n",
       "<tr>\n",
       "  <th>Sample:</th>                  <td>0</td>        <th>  HQIC               </th> <td>7281.866</td> \n",
       "</tr>\n",
       "<tr>\n",
       "  <th></th>                      <td> - 1494</td>     <th>                     </th>     <td> </td>    \n",
       "</tr>\n",
       "<tr>\n",
       "  <th>Covariance Type:</th>        <td>opg</td>       <th>                     </th>     <td> </td>    \n",
       "</tr>\n",
       "</table>\n",
       "<table class=\"simpletable\">\n",
       "<tr>\n",
       "     <td></td>       <th>coef</th>     <th>std err</th>      <th>z</th>      <th>P>|z|</th>  <th>[0.025</th>    <th>0.975]</th>  \n",
       "</tr>\n",
       "<tr>\n",
       "  <th>ar.L1</th>  <td>   -0.6640</td> <td>    0.007</td> <td>  -99.064</td> <td> 0.000</td> <td>   -0.677</td> <td>   -0.651</td>\n",
       "</tr>\n",
       "<tr>\n",
       "  <th>sigma2</th> <td>    7.6426</td> <td>    0.071</td> <td>  107.289</td> <td> 0.000</td> <td>    7.503</td> <td>    7.782</td>\n",
       "</tr>\n",
       "</table>\n",
       "<table class=\"simpletable\">\n",
       "<tr>\n",
       "  <th>Ljung-Box (L1) (Q):</th>     <td>144.67</td> <th>  Jarque-Bera (JB):  </th> <td>126537.10</td>\n",
       "</tr>\n",
       "<tr>\n",
       "  <th>Prob(Q):</th>                 <td>0.00</td>  <th>  Prob(JB):          </th>   <td>0.00</td>   \n",
       "</tr>\n",
       "<tr>\n",
       "  <th>Heteroskedasticity (H):</th>  <td>9.53</td>  <th>  Skew:              </th>   <td>-1.78</td>  \n",
       "</tr>\n",
       "<tr>\n",
       "  <th>Prob(H) (two-sided):</th>     <td>0.00</td>  <th>  Kurtosis:          </th>   <td>47.96</td>  \n",
       "</tr>\n",
       "</table><br/><br/>Warnings:<br/>[1] Covariance matrix calculated using the outer product of gradients (complex-step)."
      ],
      "text/plain": [
       "<class 'statsmodels.iolib.summary.Summary'>\n",
       "\"\"\"\n",
       "                               SARIMAX Results                                \n",
       "==============================================================================\n",
       "Dep. Variable:        total_price_eth   No. Observations:                 1494\n",
       "Model:                 ARIMA(1, 1, 0)   Log Likelihood               -3636.955\n",
       "Date:                Sun, 28 Nov 2021   AIC                           7277.910\n",
       "Time:                        16:54:18   BIC                           7288.527\n",
       "Sample:                             0   HQIC                          7281.866\n",
       "                               - 1494                                         \n",
       "Covariance Type:                  opg                                         \n",
       "==============================================================================\n",
       "                 coef    std err          z      P>|z|      [0.025      0.975]\n",
       "------------------------------------------------------------------------------\n",
       "ar.L1         -0.6640      0.007    -99.064      0.000      -0.677      -0.651\n",
       "sigma2         7.6426      0.071    107.289      0.000       7.503       7.782\n",
       "===================================================================================\n",
       "Ljung-Box (L1) (Q):                 144.67   Jarque-Bera (JB):            126537.10\n",
       "Prob(Q):                              0.00   Prob(JB):                         0.00\n",
       "Heteroskedasticity (H):               9.53   Skew:                            -1.78\n",
       "Prob(H) (two-sided):                  0.00   Kurtosis:                        47.96\n",
       "===================================================================================\n",
       "\n",
       "Warnings:\n",
       "[1] Covariance matrix calculated using the outer product of gradients (complex-step).\n",
       "\"\"\""
      ]
     },
     "execution_count": 79,
     "metadata": {},
     "output_type": "execute_result"
    }
   ],
   "source": [
    "ar_1.summary()"
   ]
  },
  {
   "cell_type": "code",
   "execution_count": 80,
   "metadata": {},
   "outputs": [],
   "source": [
    "#coefficient indicates a negative relationship is in effect in this model between last week and next week"
   ]
  },
  {
   "cell_type": "code",
   "execution_count": 81,
   "metadata": {},
   "outputs": [
    {
     "name": "stderr",
     "output_type": "stream",
     "text": [
      "C:\\Users\\saman\\anaconda3\\envs\\learn-env\\lib\\site-packages\\statsmodels\\tsa\\base\\tsa_model.py:581: ValueWarning: A date index has been provided, but it has no associated frequency information and so will be ignored when e.g. forecasting.\n",
      "  warnings.warn('A date index has been provided, but it has no'\n",
      "C:\\Users\\saman\\anaconda3\\envs\\learn-env\\lib\\site-packages\\statsmodels\\tsa\\base\\tsa_model.py:581: ValueWarning: A date index has been provided, but it has no associated frequency information and so will be ignored when e.g. forecasting.\n",
      "  warnings.warn('A date index has been provided, but it has no'\n",
      "C:\\Users\\saman\\anaconda3\\envs\\learn-env\\lib\\site-packages\\statsmodels\\tsa\\base\\tsa_model.py:581: ValueWarning: A date index has been provided, but it has no associated frequency information and so will be ignored when e.g. forecasting.\n",
      "  warnings.warn('A date index has been provided, but it has no'\n"
     ]
    },
    {
     "data": {
      "text/html": [
       "<table class=\"simpletable\">\n",
       "<caption>SARIMAX Results</caption>\n",
       "<tr>\n",
       "  <th>Dep. Variable:</th>    <td>total_price_eth</td> <th>  No. Observations:  </th>   <td>1494</td>   \n",
       "</tr>\n",
       "<tr>\n",
       "  <th>Model:</th>            <td>ARIMA(0, 1, 0)</td>  <th>  Log Likelihood     </th> <td>-4071.436</td>\n",
       "</tr>\n",
       "<tr>\n",
       "  <th>Date:</th>            <td>Sun, 28 Nov 2021</td> <th>  AIC                </th> <td>8144.872</td> \n",
       "</tr>\n",
       "<tr>\n",
       "  <th>Time:</th>                <td>21:00:46</td>     <th>  BIC                </th> <td>8150.180</td> \n",
       "</tr>\n",
       "<tr>\n",
       "  <th>Sample:</th>                  <td>0</td>        <th>  HQIC               </th> <td>8146.850</td> \n",
       "</tr>\n",
       "<tr>\n",
       "  <th></th>                      <td> - 1494</td>     <th>                     </th>     <td> </td>    \n",
       "</tr>\n",
       "<tr>\n",
       "  <th>Covariance Type:</th>        <td>opg</td>       <th>                     </th>     <td> </td>    \n",
       "</tr>\n",
       "</table>\n",
       "<table class=\"simpletable\">\n",
       "<tr>\n",
       "     <td></td>       <th>coef</th>     <th>std err</th>      <th>z</th>      <th>P>|z|</th>  <th>[0.025</th>    <th>0.975]</th>  \n",
       "</tr>\n",
       "<tr>\n",
       "  <th>sigma2</th> <td>   13.6830</td> <td>    0.097</td> <td>  140.376</td> <td> 0.000</td> <td>   13.492</td> <td>   13.874</td>\n",
       "</tr>\n",
       "</table>\n",
       "<table class=\"simpletable\">\n",
       "<tr>\n",
       "  <th>Ljung-Box (L1) (Q):</th>     <td>660.39</td> <th>  Jarque-Bera (JB):  </th> <td>163207.94</td>\n",
       "</tr>\n",
       "<tr>\n",
       "  <th>Prob(Q):</th>                 <td>0.00</td>  <th>  Prob(JB):          </th>   <td>0.00</td>   \n",
       "</tr>\n",
       "<tr>\n",
       "  <th>Heteroskedasticity (H):</th>  <td>9.74</td>  <th>  Skew:              </th>   <td>-3.30</td>  \n",
       "</tr>\n",
       "<tr>\n",
       "  <th>Prob(H) (two-sided):</th>     <td>0.00</td>  <th>  Kurtosis:          </th>   <td>53.79</td>  \n",
       "</tr>\n",
       "</table><br/><br/>Warnings:<br/>[1] Covariance matrix calculated using the outer product of gradients (complex-step)."
      ],
      "text/plain": [
       "<class 'statsmodels.iolib.summary.Summary'>\n",
       "\"\"\"\n",
       "                               SARIMAX Results                                \n",
       "==============================================================================\n",
       "Dep. Variable:        total_price_eth   No. Observations:                 1494\n",
       "Model:                 ARIMA(0, 1, 0)   Log Likelihood               -4071.436\n",
       "Date:                Sun, 28 Nov 2021   AIC                           8144.872\n",
       "Time:                        21:00:46   BIC                           8150.180\n",
       "Sample:                             0   HQIC                          8146.850\n",
       "                               - 1494                                         \n",
       "Covariance Type:                  opg                                         \n",
       "==============================================================================\n",
       "                 coef    std err          z      P>|z|      [0.025      0.975]\n",
       "------------------------------------------------------------------------------\n",
       "sigma2        13.6830      0.097    140.376      0.000      13.492      13.874\n",
       "===================================================================================\n",
       "Ljung-Box (L1) (Q):                 660.39   Jarque-Bera (JB):            163207.94\n",
       "Prob(Q):                              0.00   Prob(JB):                         0.00\n",
       "Heteroskedasticity (H):               9.74   Skew:                            -3.30\n",
       "Prob(H) (two-sided):                  0.00   Kurtosis:                        53.79\n",
       "===================================================================================\n",
       "\n",
       "Warnings:\n",
       "[1] Covariance matrix calculated using the outer product of gradients (complex-step).\n",
       "\"\"\""
      ]
     },
     "execution_count": 81,
     "metadata": {},
     "output_type": "execute_result"
    }
   ],
   "source": [
    "random_walk_1 = ARIMA(train, order=(0, 1, 0)).fit() #just specifying a first difference, and evaluate model performance\n",
    "\n",
    "random_walk_1.summary()"
   ]
  },
  {
   "cell_type": "code",
   "execution_count": 87,
   "metadata": {},
   "outputs": [
    {
     "name": "stdout",
     "output_type": "stream",
     "text": [
      "Random walk:  8144.871645301371\n",
      "ARIMA 1:  7277.910014209485\n"
     ]
    }
   ],
   "source": [
    "#compare AIC scores of random walk model versus first ARIMA model\n",
    "\n",
    "print(f\"Random walk:  {random_walk_1.aic}\")\n",
    "print(f\"ARIMA 1:  {ar_1.aic}\")"
   ]
  },
  {
   "cell_type": "code",
   "execution_count": null,
   "metadata": {},
   "outputs": [],
   "source": []
  }
 ],
 "metadata": {
  "kernelspec": {
   "display_name": "Python 3",
   "language": "python",
   "name": "python3"
  },
  "language_info": {
   "codemirror_mode": {
    "name": "ipython",
    "version": 3
   },
   "file_extension": ".py",
   "mimetype": "text/x-python",
   "name": "python",
   "nbconvert_exporter": "python",
   "pygments_lexer": "ipython3",
   "version": "3.8.5"
  }
 },
 "nbformat": 4,
 "nbformat_minor": 5
}
